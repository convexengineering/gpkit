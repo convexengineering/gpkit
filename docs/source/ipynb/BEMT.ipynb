{
 "metadata": {
  "name": "",
  "signature": "sha256:9c67cb74ac2a14a2ae15cc28bb5a1f1eaec86014bfb781319fa3621974dd8c94"
 },
 "nbformat": 3,
 "nbformat_minor": 0,
 "worksheets": [
  {
   "cells": [
    {
     "cell_type": "markdown",
     "metadata": {},
     "source": [
      "# Design Exploration and Optimization\n",
      "\n",
      "## BEMT Helicopter Hover Example\n",
      "\n",
      "Use \"Cell > Run All\" to run this notebook.\n",
      "\n",
      "### import gpkit and enable $\\LaTeX$ printing"
     ]
    },
    {
     "cell_type": "code",
     "collapsed": false,
     "input": [
      "%pylab inline\n",
      "%config InlineBackend.figure_format = 'retina'\n",
      "\n",
      "import gpkit\n",
      "import gpkit.interactive\n",
      "gpkit.interactive.init_printing()\n",
      "mon = gpkit.mon\n",
      "vec = gpkit.vecmon"
     ],
     "language": "python",
     "metadata": {},
     "outputs": [
      {
       "output_type": "stream",
       "stream": "stdout",
       "text": [
        "Populating the interactive namespace from numpy and matplotlib\n"
       ]
      }
     ],
     "prompt_number": 1
    },
    {
     "cell_type": "markdown",
     "metadata": {},
     "source": [
      "### make BEM model factory for varying weight and number of bins"
     ]
    },
    {
     "cell_type": "code",
     "collapsed": false,
     "input": [
      "# Constants #\n",
      "rho = mon(\"\\\\rho\", 1.23, \"kg/m^3\", \"Density of Air\")\n",
      "W   = mon(\"W\", \"N\", \"Weight of Vehicle\")\n",
      "xi =  vec(2,\"\\\\xi\", \"N\", \"Thrust per bin\")\n",
      "\n",
      "# Scalars #\n",
      "A     = mon(\"A\", \"m^2\", \"Disk Area\")\n",
      "Omega = mon(\"\\\\Omega\", \"rpm\", \"Rotor RPM\")\n",
      "R     = mon(\"R\", \"m\", \"Rotor Radius\")\n",
      "P     = mon(\"P\", \"W\", \"Induced Power\")\n",
      "\n",
      "# Vectors #\n",
      "r   = vec(2, \"r\", \"-\", \"Non-dimensional Radius\")\n",
      "dr  = vec(2, \"\\\\Delta r\", \"-\", \"Non-dimensional Radius Step\")\n",
      "Vi  = vec(2, \"V_i\", \"m/s\", \"Induced Velocities\")\n",
      "dCT = vec(2, \"dC_T\", \"-\", \"Incremental Thrust Coefficient of Each Bin\")\n",
      "dCP = vec(2, \"dC_P\", \"-\", \"Incremental Power Coefficient of Each Bin\")\n",
      "dP  = vec(2, \"dP\", \"W\", \"Incremental Power of Each Bin\")\n",
      "\n",
      "def BEMT_GP(N=5, Weight=1e4):\n",
      "    Weight = float(Weight)\n",
      "    global xi, r, dr, Vi, dCT, dCP, dP\n",
      "    \n",
      "    xi =  vec(N, \"\\\\xi\", \"N\", \"Thrust per bin\")\n",
      "    \n",
      "    constants = {W: Weight,\n",
      "                 xi: Weight/float(N) * ones(N),\n",
      "                 #xi: 2*Weight/float(N)**2 * array(range(1,N+1))\n",
      "                 }\n",
      "    \n",
      "    # Vector reasignment #\n",
      "    r   = vec(N, \"r\", \"-\", \"Non-dimensional Radius\")\n",
      "    dr  = vec(N, \"\\\\Delta r\", \"-\", \"Non-dimensional Radius Step\")\n",
      "    Vi  = vec(N, \"V_i\", \"m/s\", \"Induced Velocities\")\n",
      "    dCT = vec(N, \"dC_T\", \"-\", \"Incremental Thrust Coefficient of Each Bin\")\n",
      "    dCP = vec(N, \"dC_P\", \"-\", \"Incremental Power Coefficient of Each Bin\")\n",
      "    dP  = vec(N, \"dP\", \"W\", \"Incremental Power of Each Bin\")\n",
      "\n",
      "    phys_constraints = (A == pi*R**2,\n",
      "                        R <= 8 * gpkit.units.m,\n",
      "                        Omega <= 280 * gpkit.units.rpm )\n",
      "\n",
      "    r_constraints=([r[j] >= dr[:j].sum() for j in range(1,N)],\n",
      "                   1 >= dr.sum(),\n",
      "                   r[0] == dr[0]/2,\n",
      "                   [r[j] >= r[j-1] + .5*dr[j-1] + .5*dr[j] for j in range(1,N)],\n",
      "                   r[-1] <= 1)\n",
      "\n",
      "    main_constraints = (xi == rho*A*(Omega*R)**2*dCT,\n",
      "                        0.25 == Vi**2*r*dr/(dCT*(Omega*R)**2),\n",
      "                        0.25 == Vi**3*r*dr/(dCP*(Omega*R)**3),                  \n",
      "                        dP == rho*A*(Omega*R)**3*dCP,\n",
      "                        P >= dP.sum())\n",
      "    objective = P\n",
      "    eqns = phys_constraints + r_constraints + main_constraints\n",
      "    return gpkit.GP(objective, eqns, constants)\n",
      "\n",
      "gp = BEMT_GP()"
     ],
     "language": "python",
     "metadata": {},
     "outputs": [],
     "prompt_number": 2
    },
    {
     "cell_type": "markdown",
     "metadata": {},
     "source": [
      "### show gp"
     ]
    },
    {
     "cell_type": "code",
     "collapsed": false,
     "input": [
      "gp"
     ],
     "language": "python",
     "metadata": {},
     "outputs": [
      {
       "latex": [
        "$$\\begin{array}[ll]\n",
        "\\text{}\n",
        "\\text{minimize}\n",
        "    & P\\mathrm{\\left[ W \\right]} \\\\\n",
        "\\text{subject to}\n",
        "    & A = 3.142R^{2} \\\\\n",
        "    & R \\leq 8\\mathrm{\\left[ m \\right]} \\\\\n",
        "    & \\Omega \\leq 280\\mathrm{\\left[ rpm \\right]} \\\\\n",
        "    & {r}_{1} \\geq {\\Delta r}_{0} \\\\\n",
        "    & {r}_{2} \\geq {\\Delta r}_{0} + {\\Delta r}_{1} \\\\\n",
        "    & {r}_{3} \\geq {\\Delta r}_{0} + {\\Delta r}_{1} + {\\Delta r}_{2} \\\\\n",
        "    & {r}_{4} \\geq {\\Delta r}_{0} + {\\Delta r}_{1} + {\\Delta r}_{2} + {\\Delta r}_{3} \\\\\n",
        "    & 1 \\geq {\\Delta r}_{0} + {\\Delta r}_{1} + {\\Delta r}_{2} + {\\Delta r}_{3} + {\\Delta r}_{4} \\\\\n",
        "    & {r}_{0} = 0.5{\\Delta r}_{0} \\\\\n",
        "    & {r}_{1} \\geq 0.5{\\Delta r}_{0} + 0.5{\\Delta r}_{1} + {r}_{0} \\\\\n",
        "    & {r}_{2} \\geq 0.5{\\Delta r}_{1} + 0.5{\\Delta r}_{2} + {r}_{1} \\\\\n",
        "    & {r}_{3} \\geq 0.5{\\Delta r}_{2} + 0.5{\\Delta r}_{3} + {r}_{2} \\\\\n",
        "    & {r}_{4} \\geq 0.5{\\Delta r}_{3} + 0.5{\\Delta r}_{4} + {r}_{3} \\\\\n",
        "    & 1 \\geq {r}_{4} \\\\\n",
        "    & {\\xi}_{0} = {dC_T}_{0} \\Omega^{2} A R^{2} \\rho \\\\\n",
        "    & {\\xi}_{1} = {dC_T}_{1} \\Omega^{2} A R^{2} \\rho \\\\\n",
        "    & {\\xi}_{2} = {dC_T}_{2} \\Omega^{2} A R^{2} \\rho \\\\\n",
        "    & {\\xi}_{3} = {dC_T}_{3} \\Omega^{2} A R^{2} \\rho \\\\\n",
        "    & {\\xi}_{4} = {dC_T}_{4} \\Omega^{2} A R^{2} \\rho \\\\\n",
        "    & 0.25 = \\frac{{\\Delta r}_{0} {V_i}_{0}^{2} {r}_{0}}{{dC_T}_{0} \\Omega^{2} R^{2}} \\\\\n",
        "    & 0.25 = \\frac{{\\Delta r}_{1} {V_i}_{1}^{2} {r}_{1}}{{dC_T}_{1} \\Omega^{2} R^{2}} \\\\\n",
        "    & 0.25 = \\frac{{r}_{2} {\\Delta r}_{2} {V_i}_{2}^{2}}{{dC_T}_{2} \\Omega^{2} R^{2}} \\\\\n",
        "    & 0.25 = \\frac{{r}_{3} {\\Delta r}_{3} {V_i}_{3}^{2}}{{dC_T}_{3} \\Omega^{2} R^{2}} \\\\\n",
        "    & 0.25 = \\frac{{r}_{4} {\\Delta r}_{4} {V_i}_{4}^{2}}{{dC_T}_{4} \\Omega^{2} R^{2}} \\\\\n",
        "    & 0.25 = \\frac{{\\Delta r}_{0} {V_i}_{0}^{3} {r}_{0}}{{dC_P}_{0} \\Omega^{3} R^{3}} \\\\\n",
        "    & 0.25 = \\frac{{\\Delta r}_{1} {V_i}_{1}^{3} {r}_{1}}{{dC_P}_{1} \\Omega^{3} R^{3}} \\\\\n",
        "    & 0.25 = \\frac{{r}_{2} {\\Delta r}_{2} {V_i}_{2}^{3}}{{dC_P}_{2} \\Omega^{3} R^{3}} \\\\\n",
        "    & 0.25 = \\frac{{r}_{3} {\\Delta r}_{3} {V_i}_{3}^{3}}{{dC_P}_{3} \\Omega^{3} R^{3}} \\\\\n",
        "    & 0.25 = \\frac{{r}_{4} {\\Delta r}_{4} {V_i}_{4}^{3}}{{dC_P}_{4} \\Omega^{3} R^{3}} \\\\\n",
        "    & {dP}_{0} = {dC_P}_{0} \\Omega^{3} A R^{3} \\rho \\\\\n",
        "    & {dP}_{1} = {dC_P}_{1} \\Omega^{3} A R^{3} \\rho \\\\\n",
        "    & {dP}_{2} = {dC_P}_{2} \\Omega^{3} A R^{3} \\rho \\\\\n",
        "    & {dP}_{3} = {dC_P}_{3} \\Omega^{3} A R^{3} \\rho \\\\\n",
        "    & {dP}_{4} = {dC_P}_{4} \\Omega^{3} A R^{3} \\rho \\\\\n",
        "    & P \\geq {dP}_{0} + {dP}_{1} + {dP}_{2} + {dP}_{3} + {dP}_{4} \\\\\n",
        "\\text{substituting}\n",
        "    & \\rho = 1.23 \\\\\n",
        "    & {\\xi}_{0} = 2000 \\\\\n",
        "    & {\\xi}_{1} = 2000 \\\\\n",
        "    & {\\xi}_{2} = 2000 \\\\\n",
        "    & {\\xi}_{3} = 2000 \\\\\n",
        "    & {\\xi}_{4} = 2000 \\\\\n",
        "\\end{array}$$"
       ],
       "metadata": {},
       "output_type": "pyout",
       "prompt_number": 3,
       "text": [
        "                               gpkit.GP( # minimize                           \n",
        "                                       P, units='W',                          \n",
        "                                      [   # subject to                        \n",
        "                                         A = 3.1*R**2,                        \n",
        "                                       R <= 8, units='m',                     \n",
        "                                \\Omega <= 2.8e+02, units='rpm',               \n",
        "                                       r_1 >= \\Delta r_0,                     \n",
        "                                r_2 >= \\Delta r_0 + \\Delta r_1,               \n",
        "                          r_3 >= \\Delta r_0 + \\Delta r_1 + \\Delta r_2,        \n",
        "                   r_4 >= \\Delta r_0 + \\Delta r_1 + \\Delta r_2 + \\Delta r_3,  \n",
        "              1 >= \\Delta r_0 + \\Delta r_1 + \\Delta r_2 + \\Delta r_3 + \\Delta \n",
        "                                     r_0 = 0.5*\\Delta r_0,                    \n",
        "                         r_1 >= 0.5*\\Delta r_0 + 0.5*\\Delta r_1 + r_0,        \n",
        "                         r_2 >= 0.5*\\Delta r_1 + 0.5*\\Delta r_2 + r_1,        \n",
        "                         r_3 >= 0.5*\\Delta r_2 + 0.5*\\Delta r_3 + r_2,        \n",
        "                         r_4 >= 0.5*\\Delta r_3 + 0.5*\\Delta r_4 + r_3,        \n",
        "                                           1 >= r_4,                          \n",
        "                             \\xi_0 = dC_T_0*\\Omega**2*A*R**2*\\rho,            \n",
        "                             \\xi_1 = dC_T_1*\\Omega**2*A*R**2*\\rho,            \n",
        "                             \\xi_2 = dC_T_2*\\Omega**2*A*R**2*\\rho,            \n",
        "                             \\xi_3 = dC_T_3*\\Omega**2*A*R**2*\\rho,            \n",
        "                             \\xi_4 = dC_T_4*\\Omega**2*A*R**2*\\rho,            \n",
        "                  0.25 = \\Delta r_0*V_i_0**2*dC_T_0**-1*\\Omega**-2*r_0*R**-2, \n",
        "                  0.25 = \\Delta r_1*V_i_1**2*dC_T_1**-1*\\Omega**-2*r_1*R**-2, \n",
        "                  0.25 = r_2*\\Delta r_2*V_i_2**2*dC_T_2**-1*\\Omega**-2*R**-2, \n",
        "                  0.25 = r_3*\\Delta r_3*V_i_3**2*dC_T_3**-1*\\Omega**-2*R**-2, \n",
        "                  0.25 = r_4*\\Delta r_4*V_i_4**2*dC_T_4**-1*\\Omega**-2*R**-2, \n",
        "                  0.25 = \\Delta r_0*V_i_0**3*dC_P_0**-1*\\Omega**-3*r_0*R**-3, \n",
        "                  0.25 = dC_P_1**-1*\\Delta r_1*V_i_1**3*\\Omega**-3*r_1*R**-3, \n",
        "                  0.25 = r_2*\\Delta r_2*V_i_2**3*dC_P_2**-1*\\Omega**-3*R**-3, \n",
        "                  0.25 = r_3*\\Delta r_3*V_i_3**3*dC_P_3**-1*\\Omega**-3*R**-3, \n",
        "                  0.25 = r_4*\\Delta r_4*V_i_4**3*dC_P_4**-1*\\Omega**-3*R**-3, \n",
        "                              dP_0 = dC_P_0*\\Omega**3*A*R**3*\\rho,            \n",
        "                              dP_1 = dC_P_1*\\Omega**3*A*R**3*\\rho,            \n",
        "                              dP_2 = dC_P_2*\\Omega**3*A*R**3*\\rho,            \n",
        "                              dP_3 = dC_P_3*\\Omega**3*A*R**3*\\rho,            \n",
        "                              dP_4 = dC_P_4*\\Omega**3*A*R**3*\\rho,            \n",
        "                             P >= dP_0 + dP_1 + dP_2 + dP_3 + dP_4,           \n",
        "                                             ],                               \n",
        "                               substitutions={ \\xi_3: 2000.0,                 \n",
        "                                               \\xi_4: 2000.0,                 \n",
        "                                               \\xi_1: 2000.0,                 \n",
        "                                               \\xi_0: 2000.0,                 \n",
        "                                               \\xi_2: 2000.0,                 \n",
        "                                               \\rho: 1.23 },                  \n",
        "                                      solver=\"cvxopt\")                        \n",
        "\n",
        "    \n",
        "    \n",
        "    \n",
        "    \n",
        "    \n",
        "    \n",
        "    \n",
        "    \n",
        "    \n",
        "    \n",
        "r_4,\n",
        "    \n",
        "    \n",
        "    \n",
        "    \n",
        "    \n",
        "    \n",
        "    \n",
        "    \n",
        "    \n",
        "    \n",
        "    \n",
        "    \n",
        "    \n",
        "    \n",
        "    \n",
        "    \n",
        "    \n",
        "    \n",
        "    \n",
        "    \n",
        "    \n",
        "    \n",
        "    \n",
        "    \n",
        "    \n",
        "    \n",
        "    \n",
        "    \n",
        "    \n",
        "    \n",
        "    \n",
        "    \n",
        "    \n",
        "    \n",
        "    "
       ]
      }
     ],
     "prompt_number": 3
    },
    {
     "cell_type": "markdown",
     "metadata": {},
     "source": [
      "### solve for local monomial model"
     ]
    },
    {
     "cell_type": "code",
     "collapsed": false,
     "input": [
      "gp.solve()[\"local_model\"][0]"
     ],
     "language": "python",
     "metadata": {},
     "outputs": [
      {
       "output_type": "stream",
       "stream": "stdout",
       "text": [
        "Using solver 'cvxopt'\n",
        "Solving took 0.235 seconds"
       ]
      },
      {
       "output_type": "stream",
       "stream": "stdout",
       "text": [
        "\n"
       ]
      },
      {
       "latex": [
        "$$0.5404\\frac{{\\xi}_{0}^{0.32} {\\xi}_{1}^{0.3} {\\xi}_{2}^{0.3} {\\xi}_{3}^{0.3} {\\xi}_{4}^{0.27}}{\\rho^{0.5}}$$"
       ],
       "metadata": {},
       "output_type": "pyout",
       "prompt_number": 4,
       "text": [
        "0.54*\\xi_0**0.32*\\xi_1**0.3*\\xi_2**0.3*\\xi_3**0.3*\\xi_4**0.27*\\rho**-0.5"
       ]
      }
     ],
     "prompt_number": 4
    },
    {
     "cell_type": "code",
     "collapsed": false,
     "input": [
      "from IPython.display import Math\n",
      "\n",
      "Math('0.5404\\\\frac{\\\\left({\\\\xi}_{1}^{0.0144} {\\\\xi}_{5}^{-0.0318} \\\\prod_{1}^5 {\\\\xi}_{i}^{0.3035} \\\\right)}{\\\\rho^{0.5}}')"
     ],
     "language": "python",
     "metadata": {},
     "outputs": [
      {
       "latex": [
        "$$0.5404\\frac{\\left({\\xi}_{1}^{0.0144} {\\xi}_{5}^{-0.0318} \\prod_{1}^5 {\\xi}_{i}^{0.3035} \\right)}{\\rho^{0.5}}$$"
       ],
       "metadata": {},
       "output_type": "pyout",
       "prompt_number": 5,
       "text": [
        "<IPython.core.display.Math at 0x7ff6fce97a50>"
       ]
      }
     ],
     "prompt_number": 5
    },
    {
     "cell_type": "markdown",
     "metadata": {},
     "source": [
      "### vectorized solution"
     ]
    },
    {
     "cell_type": "code",
     "collapsed": false,
     "input": [
      "gp.solution[\"variables\"]"
     ],
     "language": "python",
     "metadata": {},
     "outputs": [
      {
       "metadata": {},
       "output_type": "pyout",
       "prompt_number": 6,
       "text": [
        "{V_i: array([[ 4.61764043,  4.40875243,  4.40875201,  4.4087519 ,  3.94733624]]),\n",
        " \\Delta r: array([[ 0.43547418,  0.17668997,  0.13930325,  0.11877681,  0.12975581]]),\n",
        " dP: array([[ 9235.28083441,  8817.50482631,  8817.50398871,  8817.50377994,\n",
        "          7894.67246202]]),\n",
        " r: array([[ 0.21773709,  0.58869686,  0.74669362,  0.87573369,  1.        ]]),\n",
        " dC_T: array([[ 0.00373315,  0.00373315,  0.00373315,  0.00373315,  0.00373315]]),\n",
        " dC_P: array([[ 0.00037037,  0.00035362,  0.00035362,  0.00035362,  0.00031661]]),\n",
        " \\xi: array([[ 2000,  2000,  2000,  2000,  2000]]),\n",
        " P: array([ 43582.46513974]),\n",
        " \\Omega: array([ 55.55730973]),\n",
        " A: array([ 201.06192911]),\n",
        " R: array([ 7.99999999]),\n",
        " \\rho: array([ 1.23])}"
       ]
      }
     ],
     "prompt_number": 6
    },
    {
     "cell_type": "code",
     "collapsed": false,
     "input": [
      "gp.solution[\"sensitivities\"][\"variables\"][\"\\\\xi\"]"
     ],
     "language": "python",
     "metadata": {},
     "outputs": [
      {
       "metadata": {},
       "output_type": "pyout",
       "prompt_number": 7,
       "text": [
        "array([[ 0.31785537,  0.30347657,  0.30347654,  0.30347653,  0.27171497]])"
       ]
      }
     ],
     "prompt_number": 7
    },
    {
     "cell_type": "code",
     "collapsed": false,
     "input": [
      "p = xi/rho\n",
      "p"
     ],
     "language": "python",
     "metadata": {},
     "outputs": [
      {
       "latex": [
        "$$\\begin{bmatrix}\\frac{{\\xi}_{0}}{\\rho}\\mathrm{\\left[ \\tfrac{N\\cdotm^{3}}{kg} \\right]} & \\frac{{\\xi}_{1}}{\\rho}\\mathrm{\\left[ \\tfrac{N\\cdotm^{3}}{kg} \\right]} & \\frac{{\\xi}_{2}}{\\rho}\\mathrm{\\left[ \\tfrac{N\\cdotm^{3}}{kg} \\right]} & \\frac{{\\xi}_{3}}{\\rho}\\mathrm{\\left[ \\tfrac{N\\cdotm^{3}}{kg} \\right]} & \\frac{{\\xi}_{4}}{\\rho}\\mathrm{\\left[ \\tfrac{N\\cdotm^{3}}{kg} \\right]}\\end{bmatrix}$$"
       ],
       "metadata": {},
       "output_type": "pyout",
       "prompt_number": 8,
       "text": [
        "[\\xi_0*\\rho**-1, units='N*m**3/kg', \\xi_1*\\rho**-1, units='N*m**3/kg', \\xi_2*\\\n",
        "rho**-1, units='N*m**3/kg', \\xi_3*\\rho**-1, units='N*m**3/kg', \\xi_4*\\rho**-1,\n",
        " units='N*m**3/kg']"
       ]
      }
     ],
     "prompt_number": 8
    },
    {
     "cell_type": "markdown",
     "metadata": {},
     "source": [
      "### show effect of weight and bin number on thrust disitribution"
     ]
    },
    {
     "cell_type": "code",
     "collapsed": false,
     "input": [
      "def solve_and_plot_Vi(bins, weight):\n",
      "    gp = BEMT_GP(bins, weight)\n",
      "    sol = gp.solve(solver='mosek', printing=False)\n",
      "\n",
      "    figure(figsize=(12,6))\n",
      "    plot(sol(R*r), sol(xi/(R*dr)), 'r.')\n",
      "    ylim(0, weight/4)\n",
      "    ylabel('Thrust density [N/m]')\n",
      "    xlabel('Radial position [m]')\n",
      "    show()\n",
      "\n",
      "from IPython.html.widgets import interactive\n",
      "\n",
      "interactive(solve_and_plot_Vi, bins=(1,20), weight=(1e3, 1e5, 1e3))"
     ],
     "language": "python",
     "metadata": {},
     "outputs": [
      {
       "metadata": {
        "png": {
         "height": 377,
         "width": 735
        }
       },
       "output_type": "display_data",
       "png": "[encoded data removed]",
       "text": [
        "<matplotlib.figure.Figure at 0x7ff6f883a550>"
       ]
      }
     ],
     "prompt_number": 10
    }
   ],
   "metadata": {}
  }
 ]
}