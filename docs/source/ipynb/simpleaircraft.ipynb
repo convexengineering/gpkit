{
 "cells": [
  {
   "cell_type": "markdown",
   "metadata": {},
   "source": [
    "# GPkit Example: Simple Aircraft Modeling\n",
    "-----------------------------------\n",
    "\n",
    "_Based on \"Geometric Programming for Aircraft Design Optimization\" by Hoburg and Abbeel, and using [GPkit](https://github.com/appliedopt/gpkit) for model representation and solver interfacing._\n",
    "\n",
    "### Design objective\n",
    "\n",
    "An airplane with that consumes as little fuel as possible when cruising (while remaining capable of taking off from the ground, with wings that won't break, etc.)\n",
    "\n",
    "## 1. Set up the modeling environment\n",
    "\n",
    "Start by importing Numpy and GPkit, and turning on LaTex printing for GPkit variables and equations:"
   ]
  },
  {
   "cell_type": "code",
   "execution_count": null,
   "metadata": {
    "collapsed": false
   },
   "outputs": [],
   "source": [
    "import numpy as np\n",
    "import gpkit\n",
    "import gpkit.interactive"
   ]
  },
  {
   "cell_type": "markdown",
   "metadata": {},
   "source": [
    "Next declare constants (including take-off and cruising speed, which will be 'swept' over a range of values):"
   ]
  },
  {
   "cell_type": "code",
   "execution_count": null,
   "metadata": {
    "collapsed": false
   },
   "outputs": [],
   "source": [
    "k = gpkit.Variable(\"k\", 1.2, \"-\", \"form factor\")\n",
    "e = gpkit.Variable(\"e\", 0.95, \"-\", \"Oswald efficiency factor\")\n",
    "V = gpkit.Variable(\"V\", (\"sweep\", np.linspace(45, 55, 5)), \"m/s\", \"cruising speed\")\n",
    "pi = gpkit.Variable(\"\\\\pi\", np.pi, \"-\", \"half of the circle constant\")\n",
    "mu = gpkit.Variable(\"\\\\mu\", 1.78e-5, \"kg/m/s\", \"viscosity of air\")\n",
    "rho = gpkit.Variable(\"\\\\rho\", 1.23, \"kg/m^3\", \"density of air\")\n",
    "tau = gpkit.Variable(\"\\\\tau\", 0.12, \"-\", \"airfoil thickness to chord ratio\")\n",
    "W_0 = gpkit.Variable(\"W_0\", 4940.0, \"N\", \"aircraft weight excluding wing\")\n",
    "CDA0 = gpkit.Variable(\"(CDA0)\", 0.031, \"m^2\", \"fuselage drag area\")\n",
    "N_ult = gpkit.Variable(\"N_{ult}\", 3.8, \"-\", \"ultimate load factor\")\n",
    "V_min = gpkit.Variable(\"V_{min}\", (\"sweep\", np.linspace(20, 25, 5)), \"m/s\", \"takeoff speed\")\n",
    "C_Lmax = gpkit.Variable(\"C_{L,max}\", 1.5, \"-\", \"max CL with flaps down\")\n",
    "S_wetratio = gpkit.Variable(\"(\\\\frac{S}{S_{wet}})\", 2.05, \"-\", \"wetted area ratio\")"
   ]
  },
  {
   "cell_type": "markdown",
   "metadata": {},
   "source": [
    "Then declare the rest of the variables (there's no need to separate variables and constants like this, I just find it a little more readable):"
   ]
  },
  {
   "cell_type": "code",
   "execution_count": null,
   "metadata": {
    "collapsed": false
   },
   "outputs": [],
   "source": [
    "D = gpkit.Variable(\"D\", \"N\", \"total drag force\")\n",
    "A = gpkit.Variable(\"A\", \"-\", \"aspect ratio\")\n",
    "S = gpkit.Variable(\"S\", \"m^2\", \"total wing area\")\n",
    "W = gpkit.Variable(\"W\", \"N\", \"total aircraft weight\")\n",
    "Re = gpkit.Variable(\"Re\", \"-\", \"Reynold's number\")\n",
    "W_w = gpkit.Variable(\"W_w\", \"N\", \"wing weight\")\n",
    "C_D = gpkit.Variable(\"C_D\", \"-\", \"Drag coefficient of wing\")\n",
    "C_L = gpkit.Variable(\"C_L\", \"-\", \"Lift coefficent of wing\")\n",
    "C_f = gpkit.Variable(\"C_f\", \"-\", \"skin friction coefficient\")"
   ]
  },
  {
   "cell_type": "markdown",
   "metadata": {},
   "source": [
    "LaTex makes it easier to check one's equations (note the use of == to form an equality constraint):"
   ]
  },
  {
   "cell_type": "code",
   "execution_count": null,
   "metadata": {
    "collapsed": false
   },
   "outputs": [],
   "source": [
    "D == 0.5*rho*S*C_D*V**2"
   ]
  },
  {
   "cell_type": "markdown",
   "metadata": {},
   "source": [
    "## 2. Write the system's equations\n",
    "\n",
    "The drag and wing-weight models consist of several sub-models, so we'll write them here for convenience:"
   ]
  },
  {
   "cell_type": "code",
   "execution_count": null,
   "metadata": {
    "collapsed": false
   },
   "outputs": [],
   "source": [
    "equations = []\n",
    "\n",
    "C_D_fuse = CDA0/S                                   # Fuselage viscous drag\n",
    "C_D_wpar = k*C_f*S_wetratio                         # wing parasitic drag\n",
    "C_D_ind = C_L**2/(pi*A*e)                           # and induced drag\n",
    "equations += [C_D >= C_D_fuse + C_D_wpar + C_D_ind] # together make a drag model\n",
    "\n",
    "\n",
    "W_w_strc = (8.71e-5*1/gpkit.units.m)*(N_ult*A**1.5*(W_0*W*S)**0.5)/tau # A model for the wing's structural members\n",
    "W_w_surf = (45.24*gpkit.units.N/gpkit.units.m**2)*S                    # and the weight of the wing's 'skin'\n",
    "equations += [W_w >= W_w_surf + W_w_strc]                              # form a model of total wing weight"
   ]
  },
  {
   "cell_type": "markdown",
   "metadata": {},
   "source": [
    "Then we'll write the rest of the system's equations:"
   ]
  },
  {
   "cell_type": "code",
   "execution_count": null,
   "metadata": {
    "collapsed": true
   },
   "outputs": [],
   "source": [
    "equations += [D >= 0.5*rho*S*C_D*V**2,        # the definition of C_D\n",
    "              Re <= (rho/mu)*V*(S/A)**0.5,    # the definition of Reynold's number\n",
    "              C_f >= 0.074/Re**0.2,           # a skin friction model\n",
    "              W <= 0.5*rho*S*C_L*V**2,        # a cruising lift constraint\n",
    "              W <= 0.5*rho*S*C_Lmax*V_min**2, # a takeoff lift constraint\n",
    "              W >= W_0 + W_w]                 # the definition of aircraft weight"
   ]
  },
  {
   "cell_type": "code",
   "execution_count": null,
   "metadata": {
    "collapsed": false
   },
   "outputs": [],
   "source": [
    "m = gpkit.Model(D,         # Minimize cruising drag\n",
    "                equations) # subject to our model"
   ]
  },
  {
   "cell_type": "markdown",
   "metadata": {},
   "source": [
    "We can check that we've got the right equations by examining the LaTex representation of the system:"
   ]
  },
  {
   "cell_type": "code",
   "execution_count": null,
   "metadata": {
    "collapsed": false
   },
   "outputs": [],
   "source": [
    "m"
   ]
  },
  {
   "cell_type": "markdown",
   "metadata": {},
   "source": [
    "## 3. Solve the system"
   ]
  },
  {
   "cell_type": "code",
   "execution_count": null,
   "metadata": {
    "collapsed": false
   },
   "outputs": [],
   "source": [
    "data = m.solve()"
   ]
  },
  {
   "cell_type": "markdown",
   "metadata": {},
   "source": [
    "## 4. Analyze the system's optimal frontier\n",
    "\n",
    "GPkit uses matplotlib to visualize the optimal ('Pareto') frontier of a system.\n",
    "\n",
    "We'll start up the iPython Notebook plotting environment so we can use them:"
   ]
  },
  {
   "cell_type": "code",
   "execution_count": null,
   "metadata": {
    "collapsed": false
   },
   "outputs": [],
   "source": [
    "%matplotlib inline\n",
    "%config InlineBackend.figure_format = 'retina'"
   ]
  },
  {
   "cell_type": "markdown",
   "metadata": {},
   "source": [
    "Plotting any particular design variables is then quite straightforward:"
   ]
  },
  {
   "cell_type": "code",
   "execution_count": null,
   "metadata": {
    "collapsed": false
   },
   "outputs": [],
   "source": [
    "gpkit.interactive.plotting.plot_frontiers(m, [D, C_D, C_L], 1, 3, (15,5))"
   ]
  },
  {
   "cell_type": "markdown",
   "metadata": {},
   "source": [
    "We can see that drag does not increase with cruising speed as drastically as might have been expected.\n",
    "\n",
    "This is because (under the assumptions of our equations) increasing speed allows one to fly with a smaller and lighter wing.\n",
    "\n",
    "But don't believe me, take a look at the graphs!"
   ]
  },
  {
   "cell_type": "code",
   "execution_count": null,
   "metadata": {
    "collapsed": false
   },
   "outputs": [],
   "source": [
    "gpkit.interactive.plotting.plot_frontiers(m, [W_w, S, A], 1, 3, (15,5))"
   ]
  },
  {
   "cell_type": "markdown",
   "metadata": {},
   "source": [
    "------------------\n",
    "_This example was written by Edward Burnell (eburn@mit.edu), who welcomes any comments or suggestions._"
   ]
  }
 ],
 "metadata": {
  "kernelspec": {
   "display_name": "Python 2",
   "language": "python",
   "name": "python2"
  },
  "language_info": {
   "codemirror_mode": {
    "name": "ipython",
    "version": 2
   },
   "file_extension": ".py",
   "mimetype": "text/x-python",
   "name": "python",
   "nbconvert_exporter": "python",
   "pygments_lexer": "ipython2",
   "version": "2.7.10"
  }
 },
 "nbformat": 4,
 "nbformat_minor": 0
}
