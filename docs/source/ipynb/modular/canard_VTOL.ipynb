{
 "cells": [
  {
   "cell_type": "code",
   "execution_count": 1,
   "metadata": {
    "collapsed": false
   },
   "outputs": [],
   "source": [
    "import numpy as np\n",
    "from gpkit import Model, Variable, units\n",
    "from gpkit.shortcuts import Var\n",
    "from gpkit.tools import te_exp_minus1"
   ]
  },
  {
   "cell_type": "code",
   "execution_count": 18,
   "metadata": {
    "collapsed": false
   },
   "outputs": [],
   "source": [
    "class BreguetRange(Model):\n",
    "    def setup(self):\n",
    "        g = Var(\"g\", 9.81, \"m/s^2\", \"gravity\")\n",
    "        R = Var(\"R\", \"nautical_miles\", \"range\")\n",
    "        T = Var(\"T\", \"N\", \"Thrust\")\n",
    "        h_fuel = Var(\"h_{fuel}\", 42e6, \"J/kg\", \"fuel heating value\")\n",
    "        eta_0 = Var(\"\\\\eta_0\", 0.4, \"-\", \"Overall engine efficiency\")\n",
    "        W = Var(\"W\", \"N\", \"Aircraft weight\")\n",
    "        W_zfw = Var(\"W_{zfw}\", \"N\", \"Zero fuel Weight\")\n",
    "        W_fuel = Var(\"W_{fuel}\", \"N\", \"Fuel weight\")\n",
    "        z_bre = Var(\"z_{bre}\", \"-\", \"Breguet parameter\")\n",
    "\n",
    "        # Set up Model Equations\n",
    "        objective = 1/R  # Maximize range\n",
    "        constraints = [W >= W_zfw + W_fuel,\n",
    "                       z_bre >= g*R*T/(h_fuel*eta_0*W_zfw),\n",
    "                       W_fuel/W_zfw >= te_exp_minus1(z_bre, nterm=3)\n",
    "                      ]\n",
    "        return objective, constraints\n",
    "    \n",
    "    def test(self):\n",
    "        self.substitutions.update({\"W_{zfw}\":400, \"W\":500, \"T\":15})\n",
    "        self.solve(verbosity=0)\n",
    "\n",
    "BreguetRange().test()"
   ]
  },
  {
   "cell_type": "code",
   "execution_count": 19,
   "metadata": {
    "collapsed": false
   },
   "outputs": [],
   "source": [
    "class Cruise(Model):\n",
    "    def setup(self):\n",
    "        W = Var(\"W\", \"N\", \"Aircraft weight\")        \n",
    "        T = Var(\"T\", \"N\", \"Thrust\")\n",
    "        V = Var(\"V\", \"m/s\", \"Velocity\")\n",
    "        C_L = Var(\"C_L\", \"-\", \"Lift coefficient, aircraft\")\n",
    "        C_D = Var(\"C_D\", \"-\", \"Drag coefficient, aircraft\")\n",
    "        S_w = Var(\"S_w\", \"m^2\", \"Area, wing\")\n",
    "        rho_fa = Var(\"rho_{fa}\", 0.9, \"kg/m^3\", \"Air density, at flight altitutde\")\n",
    "        \n",
    "        constraints = [T >= 0.5*C_D*V**2*S_w*rho_fa,\n",
    "                       W == 0.5*C_L*V**2*S_w*rho_fa]\n",
    "        objective = T/W\n",
    "        \n",
    "        return objective, constraints\n",
    "        \n",
    "    def test(self):\n",
    "        self.substitutions.update({\"V\":35, \"T\":15, \"S_w\":5, \"C_D\":0.005, \"C_L\":1})\n",
    "        self.solve(verbosity=0)\n",
    "        \n",
    "Cruise().test()"
   ]
  },
  {
   "cell_type": "code",
   "execution_count": 20,
   "metadata": {
    "collapsed": false
   },
   "outputs": [],
   "source": [
    "class VTOL(Model):\n",
    "    def setup(self):\n",
    "        m_esys = Var(\"m_{esys}\", \"g\", \"Electrical Systems Weight\")\n",
    "        m = Var(\"m\", \"g\", \"Mass at full fuel\")\n",
    "        m_min = Var(\"m_{min}\", 100, \"g\", \"Minimum mass\")\n",
    "        m_max = Var(\"m_{max}\", 10000, \"g\", \"Maximum mass\")\n",
    "        g = Var(\"g\", 9.81, \"m/s^2\", \"gravity\")\n",
    "\n",
    "        \n",
    "        constraints = [m_esys == 126.07*m**0.4039 * units('g^(1-0.4039)'),\n",
    "                       #1 >= (609/m_esys**0.947) * (m)**-0.262 + (7.12e-11/m_esys**22.5) * (m)**23.5,\n",
    "                       m >= m_min,\n",
    "                       m <= m_max]\n",
    "        objective = m_esys\n",
    "        \n",
    "        return objective, constraints\n",
    "    \n",
    "    def test(self):\n",
    "        self.substitutions.update({\"m\":1000})\n",
    "        self.solve(verbosity=0)\n",
    "        \n",
    "VTOL().test()"
   ]
  },
  {
   "cell_type": "code",
   "execution_count": 46,
   "metadata": {
    "collapsed": false
   },
   "outputs": [
    {
     "name": "stdout",
     "output_type": "stream",
     "text": [
      "\n",
      "Cost\n",
      "----\n",
      " 71.35 [N] \n",
      "\n",
      "Free Variables\n",
      "--------------\n",
      "              AircraftSizing12 |                                           \n",
      "                           C_D : 0.01            Drag coefficient, aircraft\n",
      "                             R : 500      [nmi]  range                     \n",
      "                           S_w : 5        [m**2] Area, wing                \n",
      "                             T : 27.56    [N]    Thrust                    \n",
      "                             V : 35       [m/s]  Velocity                  \n",
      "                             W : 71.35    [N]    Aircraft weight           \n",
      "                        W_{ac} : 10       [N]    Airframe weight           \n",
      "                      W_{fuel} : 17.14    [N]    Fuel weight               \n",
      "                       W_{zfw} : 54.21    [N]    Zero fuel Weight          \n",
      "                             m : 3767     [g]    Mass at full fuel         \n",
      "                      m_{esys} : 3507     [g]    Electrical Systems Weight \n",
      "                                                                           \n",
      "AircraftSizing12BreguetRange34 |                                           \n",
      "                             R : 500      [nmi]  range                     \n",
      "                             T : 27.56    [N]    Thrust                    \n",
      "                             W : 71.35    [N]    Aircraft weight           \n",
      "                      W_{fuel} : 17.14    [N]    Fuel weight               \n",
      "                       W_{zfw} : 54.21    [N]    Zero fuel Weight          \n",
      "                       z_{bre} : 0.2749          Breguet parameter         \n",
      "                                                                           \n",
      "      AircraftSizing12Cruise34 |                                           \n",
      "                           C_D : 0.01            Drag coefficient, aircraft\n",
      "                           C_L : 0.02589         Lift coefficient, aircraft\n",
      "                           S_w : 5        [m**2] Area, wing                \n",
      "                             T : 27.56    [N]    Thrust                    \n",
      "                             V : 35       [m/s]  Velocity                  \n",
      "                             W : 71.35    [N]    Aircraft weight           \n",
      "                                                                           \n",
      "        AircraftSizing12VTOL39 |                                           \n",
      "                             m : 3767     [g]    Mass at full fuel         \n",
      "                      m_{esys} : 3507     [g]    Electrical Systems Weight \n",
      "\n"
     ]
    }
   ],
   "source": [
    "class AircraftSizing(Model):\n",
    "    def setup(self):\n",
    "        Range = BreguetRange()\n",
    "        cruise = Cruise()\n",
    "        vtol = VTOL()\n",
    "        \n",
    "        W = Range[\"W\"]\n",
    "        W_zfw = Range[\"W_{zfw}\"]\n",
    "        R = Range[\"R\"]\n",
    "        W_fuel = Range[\"W_{fuel}\"]\n",
    "        \n",
    "        C_D = cruise[\"C_D\"]\n",
    "        C_L = cruise[\"C_L\"]\n",
    "        S_w = cruise[\"S_w\"]\n",
    "        V = cruise[\"V\"]\n",
    "        \n",
    "        m_esys = vtol[\"m_{esys}\"]\n",
    "        m = vtol[\"m\"]\n",
    "        \n",
    "        g = Var(\"g\", 9.81, \"m/s^2\", \"gravity\")\n",
    "        m_pay = Var(\"m_{pay}\", 1, \"kg\", \"Payload Mass\")\n",
    "        W_ac = Var(\"W_{ac}\", \"N\", \"Airframe weight\")\n",
    "        W_acmin = Var(\"W_{airmin}\", 10, \"N\", \"Min airframe weight\")\n",
    "        C_Dmin = Var(\"C_{Dmin}\", 0.01, \"-\", \"CD min\")\n",
    "        S_wmin = Var(\"S_{swmin}\", 5, \"m^2\", \"Surface area min\")\n",
    "        V_min = Var(\"V_{min}\", 35, \"m/s\", \"Min velocity\")\n",
    "        R_min = Var(\"R_{min}\", 500, \"nautical_miles\", \"Minimum range\")\n",
    "\n",
    "        \n",
    "        constraints = [C_D >= C_Dmin,\n",
    "                       S_w >= S_wmin,\n",
    "                       V >= V_min,\n",
    "                       W_ac >= W_acmin,\n",
    "                       W_zfw >= m_pay*g + m_esys*g + W_ac,\n",
    "                       m*g >= m_pay*g + W_ac + W_fuel,\n",
    "                       R >= R_min]\n",
    "                       #W_mto >= W_zfw + W_fuel]\n",
    "        cost = W\n",
    "        model = Model(cost, constraints)\n",
    "        \n",
    "        for subm in [Range, cruise, vtol]:\n",
    "            model = model & subm\n",
    "        \n",
    "        return model\n",
    "    \n",
    "    def test(self):\n",
    "        self.solve(verbosity=0)\n",
    "\n",
    "print AircraftSizing().solve(verbosity=0).table([\"cost\", \"freevariables\"])\n",
    "#Sizing().solve()"
   ]
  },
  {
   "cell_type": "code",
   "execution_count": null,
   "metadata": {
    "collapsed": true
   },
   "outputs": [],
   "source": []
  }
 ],
 "metadata": {
  "kernelspec": {
   "display_name": "Python 2",
   "language": "python",
   "name": "python2"
  },
  "language_info": {
   "codemirror_mode": {
    "name": "ipython",
    "version": 2
   },
   "file_extension": ".py",
   "mimetype": "text/x-python",
   "name": "python",
   "nbconvert_exporter": "python",
   "pygments_lexer": "ipython2",
   "version": "2.7.10"
  }
 },
 "nbformat": 4,
 "nbformat_minor": 0
}
