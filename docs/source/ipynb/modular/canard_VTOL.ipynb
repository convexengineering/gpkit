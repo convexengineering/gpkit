{
 "cells": [
  {
   "cell_type": "code",
   "execution_count": 2,
   "metadata": {
    "collapsed": false
   },
   "outputs": [],
   "source": [
    "import numpy as np\n",
    "from gpkit import Model, Variable, units\n",
    "from gpkit.shortcuts import Var\n",
    "from gpkit.tools import te_exp_minus1"
   ]
  },
  {
   "cell_type": "code",
   "execution_count": 3,
   "metadata": {
    "collapsed": false
   },
   "outputs": [],
   "source": [
    "class BreguetRange(Model):\n",
    "    def setup(self):\n",
    "        g = Var(\"g\", 9.81, \"m/s^2\", \"gravity\")\n",
    "        R = Var(\"R\", \"nautical_miles\", \"range\")\n",
    "        T = Var(\"T\", \"N\", \"Thrust\")\n",
    "        h_fuel = Var(\"h_{fuel}\", 42e6, \"J/kg\", \"fuel heating value\")\n",
    "        eta_0 = Var(\"\\\\eta_0\", 0.4, \"-\", \"Overall engine efficiency\")\n",
    "        W = Var(\"W\", \"N\", \"Aircraft weight\")\n",
    "        W_zfw = Var(\"W_{zfw}\", \"N\", \"Zero fuel Weight\")\n",
    "        W_fuel = Var(\"W_{fuel}\", \"N\", \"Fuel weight\")\n",
    "        z_bre = Var(\"z_{bre}\", \"-\", \"Breguet parameter\")\n",
    "\n",
    "        # Set up Model Equations\n",
    "        objective = 1/R  # Maximize range\n",
    "        constraints = [W >= W_zfw + W_fuel,\n",
    "                       z_bre >= g*R*T/(h_fuel*eta_0*W_zfw),\n",
    "                       W_fuel/W_zfw >= te_exp_minus1(z_bre, nterm=3)\n",
    "                      ]\n",
    "        return objective, constraints\n",
    "    \n",
    "    def test(self):\n",
    "        self.substitutions.update({\"W_{zfw}\":400, \"W\":500, \"T\":15})\n",
    "        self.solve(verbosity=0)\n",
    "\n",
    "BreguetRange().test()"
   ]
  },
  {
   "cell_type": "code",
   "execution_count": 4,
   "metadata": {
    "collapsed": false
   },
   "outputs": [],
   "source": [
    "class Cruise(Model):\n",
    "    def setup(self):\n",
    "        W = Var(\"W\", \"N\", \"Aircraft weight\")        \n",
    "        T = Var(\"T\", \"N\", \"Thrust\")\n",
    "        V = Var(\"V\", \"m/s\", \"Velocity\")\n",
    "        C_L = Var(\"C_L\", \"-\", \"Lift coefficient, aircraft\")\n",
    "        C_D = Var(\"C_D\", \"-\", \"Drag coefficient, aircraft\")\n",
    "        S_w = Var(\"S_w\", \"m^2\", \"Area, wing\")\n",
    "        rho_fa = Var(\"rho_{fa}\", 0.9, \"kg/m^3\", \"Air density, at flight altitutde\")\n",
    "        \n",
    "        constraints = [T >= 0.5*C_D*V**2*S_w*rho_fa,\n",
    "                       W == 0.5*C_L*V**2*S_w*rho_fa]\n",
    "        objective = T/W\n",
    "        \n",
    "        return objective, constraints\n",
    "        \n",
    "    def test(self):\n",
    "        self.substitutions.update({\"V\":35, \"T\":15, \"S_w\":5, \"C_D\":0.005, \"C_L\":1})\n",
    "        self.solve(verbosity=0)\n",
    "        \n",
    "Cruise().test()"
   ]
  },
  {
   "cell_type": "code",
   "execution_count": 34,
   "metadata": {
    "collapsed": false
   },
   "outputs": [],
   "source": [
    "class VTOL(Model):\n",
    "    def setup(self):\n",
    "        m_esys = Var(\"m_{esys}\", \"g\", \"Electrical Systems Weight\")\n",
    "        m = Var(\"m\", \"g\", \"Mass at full fuel\")\n",
    "        m_min = Var(\"m_{min}\", 50, \"g\", \"Minimum mass\")\n",
    "        m_max = Var(\"m_{max}\", 10000, \"g\", \"Maximum mass\")\n",
    "        g = Var(\"g\", 9.81, \"m/s^2\", \"gravity\")\n",
    "\n",
    "        \n",
    "        constraints = [1 >= (1.45/(m_esys**0.1 * units('g^(1-0.1)')) * (m)**0.0509 * units('g^(1-0.0509)')),\n",
    "                       m >= m_min,\n",
    "                       m <= m_max]\n",
    "        objective = m_esys\n",
    "        \n",
    "        return objective, constraints\n",
    "    \n",
    "    def test(self):\n",
    "        self.substitutions.update({\"m\":1000})\n",
    "        self.solve(verbosity=0)\n",
    "        \n",
    "VTOL().test()"
   ]
  },
  {
   "cell_type": "code",
   "execution_count": 35,
   "metadata": {
    "collapsed": false
   },
   "outputs": [
    {
     "name": "stdout",
     "output_type": "stream",
     "text": [
      "\n",
      "Cost\n",
      "----\n",
      " 0.0004989 [1/nmi] \n",
      "\n",
      "Free Variables\n",
      "--------------\n",
      "             Sizing |                                           \n",
      "                C_D : 0.005           Drag coefficient, aircraft\n",
      "                  R : 2004     [nmi]  range                     \n",
      "                S_w : 5        [m**2] Area, wing                \n",
      "                  T : 13.78    [N]    Thrust                    \n",
      "                  V : 35       [m/s]  Velocity                  \n",
      "                  W : 150      [N]    Aircraft weight           \n",
      "            W_{air} : 15       [N]    Airframe weight           \n",
      "           W_{fuel} : 34.05    [N]    Fuel weight               \n",
      "            W_{zfw} : 115.9    [N]    Zero fuel Weight          \n",
      "                  m : 1e+04    [g]    Mass at full fuel         \n",
      "           m_{esys} : 4725     [g]    Electrical Systems Weight \n",
      "                                                                \n",
      "SizingBreguetRange1 |                                           \n",
      "                  R : 2004     [nmi]  range                     \n",
      "                  T : 13.78    [N]    Thrust                    \n",
      "                  W : 150      [N]    Aircraft weight           \n",
      "           W_{fuel} : 34.05    [N]    Fuel weight               \n",
      "            W_{zfw} : 115.9    [N]    Zero fuel Weight          \n",
      "            z_{bre} : 0.2576          Breguet parameter         \n",
      "                                                                \n",
      "      SizingCruise1 |                                           \n",
      "                C_D : 0.005           Drag coefficient, aircraft\n",
      "                C_L : 0.05442         Lift coefficient, aircraft\n",
      "                S_w : 5        [m**2] Area, wing                \n",
      "                  T : 13.78    [N]    Thrust                    \n",
      "                  V : 35       [m/s]  Velocity                  \n",
      "                  W : 150      [N]    Aircraft weight           \n",
      "                                                                \n",
      "       SizingVTOL23 |                                           \n",
      "                  m : 1e+04    [g]    Mass at full fuel         \n",
      "           m_{esys} : 4725     [g]    Electrical Systems Weight \n",
      "\n"
     ]
    }
   ],
   "source": [
    "class Sizing(Model):\n",
    "    def setup(self):\n",
    "        Range = BreguetRange()\n",
    "        cruise = Cruise()\n",
    "        vtol = VTOL()\n",
    "        \n",
    "        W = Range[\"W\"]\n",
    "        W_zfw = Range[\"W_{zfw}\"]\n",
    "        R = Range[\"R\"]\n",
    "        W_fuel = Range[\"W_{fuel}\"]\n",
    "        \n",
    "        C_D = cruise[\"C_D\"]\n",
    "        C_L = cruise[\"C_L\"]\n",
    "        S_w = cruise[\"S_w\"]\n",
    "        V = cruise[\"V\"]\n",
    "        \n",
    "        m_esys = vtol[\"m_{esys}\"]\n",
    "        m = vtol[\"m\"]\n",
    "        \n",
    "        g = Var(\"g\", 9.81, \"m/s^2\", \"gravity\")\n",
    "        m_pay = Var(\"m_{pay}\", 5, \"kg\", \"Payload Mass\")\n",
    "        W_mto = Var(\"W_{mto}\", 150, \"N\", \"Mass take off weight\")\n",
    "        W_air = Var(\"W_{air}\", \"N\", \"Airframe weight\")\n",
    "        W_airmin = Var(\"W_{airmin}\", 15, \"N\", \"Min airframe weight\")\n",
    "        C_Dmin = Var(\"C_{Dmin}\", 0.005, \"-\", \"CD min\")\n",
    "        S_wmin = Var(\"S_{swmin}\", 5, \"m^2\", \"Surface area min\")\n",
    "        V_min = Var(\"V_{min}\", 35, \"m/s\", \"Min velocity\")\n",
    "        R_min = Var(\"R_{min}\", 1000, \"nautical_miles\", \"Minimum range\")\n",
    "\n",
    "        \n",
    "        constraints = [C_D >= C_Dmin,\n",
    "                       S_w >= S_wmin,\n",
    "                       V >= V_min,\n",
    "                       W_air >= W_airmin,\n",
    "                       W_zfw >= m_pay*g + m_esys*g + W_air,\n",
    "                       m*g >= m_pay*g + W_air + W_fuel,\n",
    "                       W_mto >= W,\n",
    "                       W_mto >= W_zfw + W_fuel]\n",
    "        cost = 1/R\n",
    "        model = Model(cost, constraints)\n",
    "        \n",
    "        for subm in [Range, cruise, vtol]:\n",
    "            model = model & subm\n",
    "        \n",
    "        return model\n",
    "    \n",
    "    def test(self):\n",
    "        self.solve(verbosity=0)\n",
    "\n",
    "print Sizing().solve(verbosity=0).table([\"cost\", \"freevariables\"])\n",
    "#Sizing().feasibility()"
   ]
  },
  {
   "cell_type": "code",
   "execution_count": null,
   "metadata": {
    "collapsed": true
   },
   "outputs": [],
   "source": []
  }
 ],
 "metadata": {
  "kernelspec": {
   "display_name": "Python 2",
   "language": "python",
   "name": "python2"
  },
  "language_info": {
   "codemirror_mode": {
    "name": "ipython",
    "version": 2
   },
   "file_extension": ".py",
   "mimetype": "text/x-python",
   "name": "python",
   "nbconvert_exporter": "python",
   "pygments_lexer": "ipython2",
   "version": "2.7.10"
  }
 },
 "nbformat": 4,
 "nbformat_minor": 0
}
