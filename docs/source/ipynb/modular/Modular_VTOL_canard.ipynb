{
 "cells": [
  {
   "cell_type": "markdown",
   "metadata": {},
   "source": [
    "<img src=\"fuellogo.svg\" style=\"float:left; padding-right:1em;\" width=150 />\n",
    "\n",
    "# (MODULAR) AIRPLANE FUEL\n",
    "*Minimize fuel needed for a plane that can sprint and land quickly.*\n",
    "\n",
    "### Set up the modelling environment\n",
    "\n",
    "First we'll to import GPkit and turn on $\\LaTeX$ printing for GPkit variables and equations. Then we'll create a few helper functions, though there should really be a better way to do this."
   ]
  },
  {
   "cell_type": "code",
   "execution_count": 1,
   "metadata": {
    "collapsed": false,
    "slideshow": {
     "slide_type": "slide"
    }
   },
   "outputs": [],
   "source": [
    "import numpy as np\n",
    "from gpkit import Model, Variable, units"
   ]
  },
  {
   "cell_type": "markdown",
   "metadata": {},
   "source": [
    "## Model.setup(self, ...)\n",
    "\n",
    "Note the `setup` function, which creates the Model's cost and constraints, then returns them to the `__init__` function."
   ]
  },
  {
   "cell_type": "code",
   "execution_count": 2,
   "metadata": {
    "collapsed": false
   },
   "outputs": [],
   "source": [
    "class Landing(Model):\n",
    "    def setup(self):\n",
    "        S = Variable(\"S\", \"m^2\", \"Wing area\")\n",
    "        W_mto = Variable(\"W_{mto}\", \"N\", \"Maximum takeoff weight\")\n",
    "        rho_sl = Variable(\"\\\\rho_{sl}\", 1.23, \"kg/m^3\", \"Air density, sea level\")\n",
    "        C_Lmax = Variable(\"C_{L,max}\", 1.5, \"-\", \"Maximum C_L, flaps down\")\n",
    "        V_stallmax = Variable(\"V_{stall,max}\", 40, \"m/s\", \"Stall speed\")\n",
    "        V_stall  = Variable(\"V_{stall}\", \"m/s\", \"Stall speed\")\n",
    "    \n",
    "        constraints = [W_mto <= 0.5*rho_sl*V_stall**2*C_Lmax*S,\n",
    "                       V_stall <= V_stallmax]\n",
    "        cost = 1/W_mto\n",
    "        return cost, constraints\n",
    "    \n",
    "    def test(self):\n",
    "        self.substitutions.update({\"S\": 10})\n",
    "        self.solve(verbosity=0)\n",
    "\n",
    "Landing().test()"
   ]
  },
  {
   "cell_type": "code",
   "execution_count": 34,
   "metadata": {
    "collapsed": false
   },
   "outputs": [
    {
     "ename": "ValueError",
     "evalue": "Rank(A) < p or Rank([H(x); A; Df(x); G]) < n",
     "output_type": "error",
     "traceback": [
      "\u001b[0;31m---------------------------------------------------------------------------\u001b[0m",
      "\u001b[0;31mValueError\u001b[0m                                Traceback (most recent call last)",
      "\u001b[0;32m<ipython-input-34-5f4eef83802c>\u001b[0m in \u001b[0;36m<module>\u001b[0;34m()\u001b[0m\n\u001b[1;32m     22\u001b[0m         \u001b[0mself\u001b[0m\u001b[0;34m.\u001b[0m\u001b[0msolve\u001b[0m\u001b[0;34m(\u001b[0m\u001b[0mverbosity\u001b[0m\u001b[0;34m=\u001b[0m\u001b[0;36m0\u001b[0m\u001b[0;34m)\u001b[0m\u001b[0;34m\u001b[0m\u001b[0m\n\u001b[1;32m     23\u001b[0m \u001b[0;34m\u001b[0m\u001b[0m\n\u001b[0;32m---> 24\u001b[0;31m \u001b[0mVT_tricopter\u001b[0m\u001b[0;34m(\u001b[0m\u001b[0;34m)\u001b[0m\u001b[0;34m.\u001b[0m\u001b[0mtest\u001b[0m\u001b[0;34m(\u001b[0m\u001b[0;34m)\u001b[0m\u001b[0;34m\u001b[0m\u001b[0m\n\u001b[0m",
      "\u001b[0;32m<ipython-input-34-5f4eef83802c>\u001b[0m in \u001b[0;36mtest\u001b[0;34m(self)\u001b[0m\n\u001b[1;32m     20\u001b[0m \u001b[0;34m\u001b[0m\u001b[0m\n\u001b[1;32m     21\u001b[0m     \u001b[0;32mdef\u001b[0m \u001b[0mtest\u001b[0m\u001b[0;34m(\u001b[0m\u001b[0mself\u001b[0m\u001b[0;34m)\u001b[0m\u001b[0;34m:\u001b[0m\u001b[0;34m\u001b[0m\u001b[0m\n\u001b[0;32m---> 22\u001b[0;31m         \u001b[0mself\u001b[0m\u001b[0;34m.\u001b[0m\u001b[0msolve\u001b[0m\u001b[0;34m(\u001b[0m\u001b[0mverbosity\u001b[0m\u001b[0;34m=\u001b[0m\u001b[0;36m0\u001b[0m\u001b[0;34m)\u001b[0m\u001b[0;34m\u001b[0m\u001b[0m\n\u001b[0m\u001b[1;32m     23\u001b[0m \u001b[0;34m\u001b[0m\u001b[0m\n\u001b[1;32m     24\u001b[0m \u001b[0mVT_tricopter\u001b[0m\u001b[0;34m(\u001b[0m\u001b[0;34m)\u001b[0m\u001b[0;34m.\u001b[0m\u001b[0mtest\u001b[0m\u001b[0;34m(\u001b[0m\u001b[0;34m)\u001b[0m\u001b[0;34m\u001b[0m\u001b[0m\n",
      "\u001b[0;32m/Users/mjburton11/Documents/SuperUROP/gpkit/gpkit/model.pyc\u001b[0m in \u001b[0;36msolve\u001b[0;34m(self, solver, verbosity, skipsweepfailures, *args, **kwargs)\u001b[0m\n\u001b[1;32m    340\u001b[0m         \u001b[0;32mtry\u001b[0m\u001b[0;34m:\u001b[0m\u001b[0;34m\u001b[0m\u001b[0m\n\u001b[1;32m    341\u001b[0m             return self._solve(\"gp\", solver, verbosity, skipsweepfailures,\n\u001b[0;32m--> 342\u001b[0;31m                                *args, **kwargs)\n\u001b[0m\u001b[1;32m    343\u001b[0m         \u001b[0;32mexcept\u001b[0m \u001b[0mValueError\u001b[0m \u001b[0;32mas\u001b[0m \u001b[0merr\u001b[0m\u001b[0;34m:\u001b[0m\u001b[0;34m\u001b[0m\u001b[0m\n\u001b[1;32m    344\u001b[0m             \u001b[0;32mif\u001b[0m \u001b[0merr\u001b[0m\u001b[0;34m.\u001b[0m\u001b[0mmessage\u001b[0m \u001b[0;34m==\u001b[0m \u001b[0;34m(\u001b[0m\u001b[0;34m\"GeometricPrograms cannot contain Signomials\"\u001b[0m\u001b[0;34m)\u001b[0m\u001b[0;34m:\u001b[0m\u001b[0;34m\u001b[0m\u001b[0m\n",
      "\u001b[0;32m/Users/mjburton11/Documents/SuperUROP/gpkit/gpkit/model.pyc\u001b[0m in \u001b[0;36m_solve\u001b[0;34m(self, programType, solver, verbosity, skipsweepfailures, *args, **kwargs)\u001b[0m\n\u001b[1;32m    498\u001b[0m             self.program, solvefn = form_program(programType, signomials,\n\u001b[1;32m    499\u001b[0m                                                  verbosity=verbosity)\n\u001b[0;32m--> 500\u001b[0;31m             \u001b[0mresult\u001b[0m \u001b[0;34m=\u001b[0m \u001b[0msolvefn\u001b[0m\u001b[0;34m(\u001b[0m\u001b[0;34m*\u001b[0m\u001b[0margs\u001b[0m\u001b[0;34m,\u001b[0m \u001b[0;34m**\u001b[0m\u001b[0mkwargs\u001b[0m\u001b[0;34m)\u001b[0m\u001b[0;34m\u001b[0m\u001b[0m\n\u001b[0m\u001b[1;32m    501\u001b[0m             \u001b[0msolution\u001b[0m\u001b[0;34m.\u001b[0m\u001b[0mappend\u001b[0m\u001b[0;34m(\u001b[0m\u001b[0mparse_result\u001b[0m\u001b[0;34m(\u001b[0m\u001b[0mresult\u001b[0m\u001b[0;34m,\u001b[0m \u001b[0mconstants\u001b[0m\u001b[0;34m,\u001b[0m \u001b[0mbeforesubs\u001b[0m\u001b[0;34m)\u001b[0m\u001b[0;34m)\u001b[0m\u001b[0;34m\u001b[0m\u001b[0m\n\u001b[1;32m    502\u001b[0m         \u001b[0msolution\u001b[0m\u001b[0;34m.\u001b[0m\u001b[0mprogram\u001b[0m \u001b[0;34m=\u001b[0m \u001b[0mself\u001b[0m\u001b[0;34m.\u001b[0m\u001b[0mprogram\u001b[0m\u001b[0;34m\u001b[0m\u001b[0m\n",
      "\u001b[0;32m/Users/mjburton11/Documents/SuperUROP/gpkit/gpkit/geometric_program.pyc\u001b[0m in \u001b[0;36msolve\u001b[0;34m(self, solver, verbosity, *args, **kwargs)\u001b[0m\n\u001b[1;32m    139\u001b[0m             \u001b[0msys\u001b[0m\u001b[0;34m.\u001b[0m\u001b[0mstdout\u001b[0m \u001b[0;34m=\u001b[0m \u001b[0mself\u001b[0m\u001b[0;34m.\u001b[0m\u001b[0msolver_log\u001b[0m   \u001b[0;31m# CAPTURING STDOUT\u001b[0m\u001b[0;34m\u001b[0m\u001b[0m\n\u001b[1;32m    140\u001b[0m             solver_out = solverfn(c=self.cs, A=self.A, p_idxs=self.p_idxs,\n\u001b[0;32m--> 141\u001b[0;31m                                   k=self.k, *args, **kwargs)\n\u001b[0m\u001b[1;32m    142\u001b[0m         \u001b[0;32mfinally\u001b[0m\u001b[0;34m:\u001b[0m\u001b[0;34m\u001b[0m\u001b[0m\n\u001b[1;32m    143\u001b[0m             \u001b[0msys\u001b[0m\u001b[0;34m.\u001b[0m\u001b[0mstdout\u001b[0m \u001b[0;34m=\u001b[0m \u001b[0moriginal_stdout\u001b[0m   \u001b[0;31m# RETURNING STDOUT\u001b[0m\u001b[0;34m\u001b[0m\u001b[0m\n",
      "\u001b[0;32m/Users/mjburton11/Documents/SuperUROP/gpkit/gpkit/_cvxopt.pyc\u001b[0m in \u001b[0;36mcvxoptimize\u001b[0;34m(c, A, k, *args, **kwargs)\u001b[0m\n\u001b[1;32m     40\u001b[0m         \u001b[0mg\u001b[0m \u001b[0;34m=\u001b[0m \u001b[0mlog\u001b[0m\u001b[0;34m(\u001b[0m\u001b[0mmatrix\u001b[0m\u001b[0;34m(\u001b[0m\u001b[0mc\u001b[0m\u001b[0;34m)\u001b[0m\u001b[0;34m)\u001b[0m\u001b[0;34m\u001b[0m\u001b[0m\n\u001b[1;32m     41\u001b[0m         \u001b[0mF\u001b[0m \u001b[0;34m=\u001b[0m \u001b[0mspmatrix\u001b[0m\u001b[0;34m(\u001b[0m\u001b[0mA\u001b[0m\u001b[0;34m.\u001b[0m\u001b[0mdata\u001b[0m\u001b[0;34m,\u001b[0m \u001b[0mA\u001b[0m\u001b[0;34m.\u001b[0m\u001b[0mrow\u001b[0m\u001b[0;34m,\u001b[0m \u001b[0mA\u001b[0m\u001b[0;34m.\u001b[0m\u001b[0mcol\u001b[0m\u001b[0;34m,\u001b[0m \u001b[0mtc\u001b[0m\u001b[0;34m=\u001b[0m\u001b[0;34m'd'\u001b[0m\u001b[0;34m)\u001b[0m\u001b[0;34m\u001b[0m\u001b[0m\n\u001b[0;32m---> 42\u001b[0;31m         \u001b[0msolution\u001b[0m \u001b[0;34m=\u001b[0m \u001b[0mgpsolver\u001b[0m\u001b[0;34m(\u001b[0m\u001b[0mk\u001b[0m\u001b[0;34m,\u001b[0m \u001b[0mF\u001b[0m\u001b[0;34m,\u001b[0m \u001b[0mg\u001b[0m\u001b[0;34m)\u001b[0m\u001b[0;34m\u001b[0m\u001b[0m\n\u001b[0m\u001b[1;32m     43\u001b[0m         return dict(status=solution['status'],\n\u001b[1;32m     44\u001b[0m                     \u001b[0mprimal\u001b[0m\u001b[0;34m=\u001b[0m\u001b[0msolution\u001b[0m\u001b[0;34m[\u001b[0m\u001b[0;34m'x'\u001b[0m\u001b[0;34m]\u001b[0m\u001b[0;34m,\u001b[0m\u001b[0;34m\u001b[0m\u001b[0m\n",
      "\u001b[0;32m/Users/mjburton11/.local/lib/python2.7/site-packages/cvxopt-1.1.7-py2.7-macosx-10.5-x86_64.egg/cvxopt/cvxprog.pyc\u001b[0m in \u001b[0;36mgp\u001b[0;34m(K, F, g, G, h, A, b)\u001b[0m\n\u001b[1;32m   2160\u001b[0m         \u001b[0;32melse\u001b[0m\u001b[0;34m:\u001b[0m \u001b[0;32mreturn\u001b[0m \u001b[0mf\u001b[0m\u001b[0;34m,\u001b[0m \u001b[0mDf\u001b[0m\u001b[0;34m,\u001b[0m \u001b[0mH\u001b[0m\u001b[0;34m\u001b[0m\u001b[0m\n\u001b[1;32m   2161\u001b[0m \u001b[0;34m\u001b[0m\u001b[0m\n\u001b[0;32m-> 2162\u001b[0;31m     \u001b[0;32mreturn\u001b[0m \u001b[0mcp\u001b[0m\u001b[0;34m(\u001b[0m\u001b[0mFgp\u001b[0m\u001b[0;34m,\u001b[0m \u001b[0mG\u001b[0m\u001b[0;34m,\u001b[0m \u001b[0mh\u001b[0m\u001b[0;34m,\u001b[0m \u001b[0mdims\u001b[0m\u001b[0;34m,\u001b[0m \u001b[0mA\u001b[0m\u001b[0;34m,\u001b[0m \u001b[0mb\u001b[0m\u001b[0;34m)\u001b[0m\u001b[0;34m\u001b[0m\u001b[0m\n\u001b[0m",
      "\u001b[0;32m/Users/mjburton11/.local/lib/python2.7/site-packages/cvxopt-1.1.7-py2.7-macosx-10.5-x86_64.egg/cvxopt/cvxprog.pyc\u001b[0m in \u001b[0;36mcp\u001b[0;34m(F, G, h, dims, A, b, kktsolver, xnewcopy, xdot, xaxpy, xscal, ynewcopy, ydot, yaxpy, yscal)\u001b[0m\n\u001b[1;32m   1967\u001b[0m \u001b[0;34m\u001b[0m\u001b[0m\n\u001b[1;32m   1968\u001b[0m     sol = cpl(c, F_e, G_e, h, dims, A_e, b, kktsolver_e, xnewcopy_e, \n\u001b[0;32m-> 1969\u001b[0;31m          xdot_e, xaxpy_e, xscal_e)\n\u001b[0m\u001b[1;32m   1970\u001b[0m \u001b[0;34m\u001b[0m\u001b[0m\n\u001b[1;32m   1971\u001b[0m     \u001b[0msol\u001b[0m\u001b[0;34m[\u001b[0m\u001b[0;34m'x'\u001b[0m\u001b[0;34m]\u001b[0m \u001b[0;34m=\u001b[0m \u001b[0msol\u001b[0m\u001b[0;34m[\u001b[0m\u001b[0;34m'x'\u001b[0m\u001b[0;34m]\u001b[0m\u001b[0;34m[\u001b[0m\u001b[0;36m0\u001b[0m\u001b[0;34m]\u001b[0m\u001b[0;34m\u001b[0m\u001b[0m\n",
      "\u001b[0;32m/Users/mjburton11/.local/lib/python2.7/site-packages/cvxopt-1.1.7-py2.7-macosx-10.5-x86_64.egg/cvxopt/cvxprog.pyc\u001b[0m in \u001b[0;36mcpl\u001b[0;34m(c, F, G, h, dims, A, b, kktsolver, xnewcopy, xdot, xaxpy, xscal, ynewcopy, ydot, yaxpy, yscal)\u001b[0m\n\u001b[1;32m    786\u001b[0m             \u001b[0msingular_kkt_matrix\u001b[0m \u001b[0;34m=\u001b[0m \u001b[0mFalse\u001b[0m\u001b[0;34m\u001b[0m\u001b[0m\n\u001b[1;32m    787\u001b[0m             \u001b[0;32mif\u001b[0m \u001b[0miters\u001b[0m \u001b[0;34m==\u001b[0m \u001b[0;36m0\u001b[0m\u001b[0;34m:\u001b[0m\u001b[0;34m\u001b[0m\u001b[0m\n\u001b[0;32m--> 788\u001b[0;31m                 raise ValueError(\"Rank(A) < p or \"\\\n\u001b[0m\u001b[1;32m    789\u001b[0m                     \"Rank([H(x); A; Df(x); G]) < n\")\n\u001b[1;32m    790\u001b[0m \u001b[0;34m\u001b[0m\u001b[0m\n",
      "\u001b[0;31mValueError\u001b[0m: Rank(A) < p or Rank([H(x); A; Df(x); G]) < n"
     ]
    }
   ],
   "source": [
    "class VT_tricopter(Model):\n",
    "    def setup(self):\n",
    "        rho_sl = Variable(\"\\\\rho_{sl}\", 1.225, \"kg/m^3\", \"Air density at Sea Level\")\n",
    "        pi = Variable(\"\\\\pi\", np.pi, \"-\", \"Half of the circle constant\")\n",
    "\n",
    "        \n",
    "        P = Variable(\"P\", \"N*m/s\", \"Power from electric motor\")\n",
    "        I = Variable(\"I\", \"amps\", \"Current from battery\")\n",
    "        V = Variable(\"V\", \"volts\", \"Voltage accross the engine\")\n",
    "        R_prop = Variable(\"R_{prop}\", \"m\", \"Radius of the propeller\")\n",
    "        W_mto = Variable(\"W_{mto}\", \"N\", \"Max take off weight\")\n",
    "        VT = Variable(\"VT\", \"N\", \"Verticle thrust from 1 engine\")\n",
    "        \n",
    "        constraints = [P <= I*V,\n",
    "                       VT**3 <= (2 * pi * R_prop**2 * P**2 * rho_sl),\n",
    "                       W_mto <= 3*VT\n",
    "                      ]\n",
    "        cost = 1/W_mto\n",
    "        return cost, constraints\n",
    "    \n",
    "    def test(self):\n",
    "        \n",
    "        self.solve(verbosity=0)\n",
    "        \n",
    "VT_tricopter().test()   "
   ]
  },
  {
   "cell_type": "code",
   "execution_count": 33,
   "metadata": {
    "collapsed": false
   },
   "outputs": [
    {
     "data": {
      "text/latex": [
       "$$2P^{2} R_{prop}^{2} \\pi \\rho_{sl} \\geq VT^{3}$$"
      ],
      "text/plain": [
       "gpkit.Monomial(2*P**2*R_{prop}**2*\\pi*\\rho_{sl} [N**2*kg*m/s**2]) >= gpkit.Monomial(VT**3 [N**3])"
      ]
     },
     "execution_count": 33,
     "metadata": {},
     "output_type": "execute_result"
    }
   ],
   "source": [
    "rho_sl = Variable(\"\\\\rho_{sl}\", 1.225, \"kg/m^3\", \"Air density at Sea Level\")\n",
    "pi = Variable(\"\\\\pi\", np.pi, \"-\", \"Half of the circle constant\")\n",
    "\n",
    "\n",
    "P = Variable(\"P\", \"N*m/s\", \"Power from electric motor\")\n",
    "I = Variable(\"I\", \"amps\", \"Current from battery\")\n",
    "V = Variable(\"V\", \"volts\", \"Voltage accross the engine\")\n",
    "R_prop = Variable(\"R_{prop}\", \"m\", \"Radius of the propeller\")\n",
    "W_mto = Variable(\"W_{mto}\", \"N\", \"Max take off weight\")\n",
    "VT = Variable(\"VT\", \"N\", \"Verticle thrust from 1 engine\")\n",
    "VT**3 <= (2 * pi * R_prop**2 * P**2 * rho_sl)\n",
    "#VT <= (2 * pi * R_prop**2 * P**2 * rho_sl)**(1/3)"
   ]
  },
  {
   "cell_type": "code",
   "execution_count": 23,
   "metadata": {
    "collapsed": false
   },
   "outputs": [
    {
     "data": {
      "text/plain": [
       "1.3333333333333333"
      ]
     },
     "execution_count": 23,
     "metadata": {},
     "output_type": "execute_result"
    }
   ],
   "source": [
    "4/3."
   ]
  },
  {
   "cell_type": "code",
   "execution_count": 9,
   "metadata": {
    "collapsed": true
   },
   "outputs": [],
   "source": [
    "class Canard(Model):\n",
    "    def setup(self):\n",
    "        # model taken from: http://ntrs.nasa.gov/archive/nasa/casi.ntrs.nasa.gov/19850016894.pdf\n",
    "        \n",
    "        x_np = Variable(\"x_{np}\", 0.75, \"-\", \"Distance from canard a.c. to wing a.c. as % of total length\")\n",
    "        eps_w = Variable(\"\\\\epsilon_{w}\", 0.8, \"-\", \"Upwash effect of wing on canard\")\n",
    "        eps_c = Variable(\"\\\\epsilon_{w}\", 2.5, \"-\", \"Downwash effect of canard on wing\")\n",
    "        e = Variable(\"e\", 0.75, \"-\", \"Oswald efficiency factor\")\n",
    "        pi = Variable(\"\\\\pi\", np.pi, \"-\", \"Half of the circle constant\")\n",
    "\n",
    "        \n",
    "        S_c = Variable(\"S_{c}\", \"m^2\", \"Surface Area, canard\")\n",
    "        S_w = Variable(\"S_{w}\", \"m^2\", \"Surface Area, wing\")\n",
    "        a_w = Variable(\"a_{w}\", \"-\", \"Lift curve slope of wing only\")\n",
    "        a_c = Variable(\"a_{c}\", \"-\", \"Lift curve slope of canard only\")\n",
    "        AR_w = Variable(\"AR_{w}\", \"-\", \"Aspect ratio, wing\")\n",
    "        AR_c = Variable(\"AR_{c}\", \"-\", \"Aspect ratio, canard\")\n",
    "        eps_aw = Variable(\"\\\\epsilon_{\\\\alpha,w}\", \"-\", \"Rate of change of downwash at wing\")\n",
    "        eps_ac = Variable(\"\\\\epsilon_{\\\\alpha,w}\", \"-\", \"Rate of change of upwash at canard\")\n",
    "        C_Lac = Variable(\"C_{L_{\\\\alpha,c}}\", \"-\", \"Lift curve slope of canard\")\n",
    "        C_Law = Variable(\"C_{L_{\\\\alpha,w}}\", \"-\", \"Lift curve slope of wing\")\n",
    "        \n",
    "        \n",
    "        \n",
    "        constraints = [a_w <= 2*pi*AR_w*e/(e*AR_w + 2), \n",
    "                       a_c <= 2*pi*AR_c*e/(e*AR_c + 2),\n",
    "                       eps_aw <= a_w*eps_w/(pi*AR_w),\n",
    "                       eps_ac <= a_c*S_c*eps_c/(S_w*pi*AR_w),\n",
    "                       1 >= C_Law*(1+eps_ac*eps_aw)/a_w + eps_ac,\n",
    "                       x_np <= 1/(1 + C_Lac*S_c/(C_Law*S_w)),\n",
    "                       \n",
    "                      ]\n",
    "        \n",
    "        "
   ]
  },
  {
   "cell_type": "code",
   "execution_count": 18,
   "metadata": {
    "collapsed": false
   },
   "outputs": [],
   "source": [
    "class Cruising(Model):\n",
    "    def setup(self):\n",
    "        rho = Variable(\"\\\\rho\", 0.91, \"kg/m^3\", \"Air density, 3000m\")\n",
    "        mu = Variable(\"\\\\mu\", 1.69e-5, \"kg/m/s\", \"Dynamic viscosity, 3000m\")\n",
    "        A = Variable(\"A\", \"-\", \"Aspect Ratio\")\n",
    "        S = Variable(\"S\", \"m^2\", \"Wing area\")\n",
    "        V = Variable(\"V\", \"m/s\", \"Flight speed\")\n",
    "        C_L = Variable(\"C_L\", \"-\", \"Wing lift coefficent\")\n",
    "        C_D = Variable(\"C_D\", \"-\", \"Wing drag coefficent\")\n",
    "        T = Variable(\"T\", \"N\", \"Thrust force\")\n",
    "        Re = Variable(\"Re\", \"-\", \"Reynold's number\")\n",
    "        W  = Variable(\"W\", \"N\", \"Aircraft weight\")\n",
    "        constraints = [W == 0.5*rho*C_L*S*V**2,\n",
    "                       T >= 0.5*rho*C_D*S*V**2,\n",
    "                       Re == (rho/mu)*V*(S/A)**0.5] \n",
    "        cost = T/W\n",
    "        return cost, constraints\n",
    "\n",
    "    def test(self):\n",
    "        self.substitutions.update({\"S\":10, \"C_L\":1, \"C_D\":1, \"V\":10, \"A\":1})\n",
    "        self.solve(verbosity=0)\n",
    "\n",
    "Cruising().test()"
   ]
  },
  {
   "cell_type": "code",
   "execution_count": 19,
   "metadata": {
    "collapsed": false
   },
   "outputs": [],
   "source": [
    "class Drag(Model):\n",
    "    def setup(self):\n",
    "        pi = Variable(\"\\\\pi\", np.pi, \"-\", \"Half of the circle constant\")\n",
    "        e    = Variable(\"e\", 0.95, \"-\", \"Wing spanwise efficiency\")\n",
    "        S = Variable(\"S\", \"m^2\", \"Wing area\")\n",
    "        A = Variable(\"A\", \"-\", \"Aspect Ratio\")\n",
    "        tau = Variable(\"\\\\tau\", \"-\", \"Thickness coeff\")\n",
    "        C_L = Variable(\"C_L\", \"-\", \"Wing lift coefficent\")\n",
    "        C_D = Variable(\"C_D\", \"-\", \"Wing drag coefficent\")\n",
    "        C_Dp = Variable(\"C_{D_p}\", \"-\", \"fit to xrotor drag\")\n",
    "        Re = Variable(\"Re\", \"-\", \"Reynold's number\")\n",
    "        \n",
    "        constraints = (C_D >= (0.05/S)*units.m**2 + C_Dp + C_L**2/(pi*e*A),\n",
    "                       1 >= (2.56*C_L**5.88/(Re**1.54*tau**3.32*C_Dp**2.62) +\n",
    "                            3.8e-9*tau**6.23/(C_L**0.92*Re**1.38*C_Dp**9.57) +\n",
    "                            2.2e-3*Re**0.14*tau**0.033/(C_L**0.01*C_Dp**0.73) +\n",
    "                            1.19e4*C_L**9.78*tau**1.76/(Re*C_Dp**0.91) +\n",
    "                            6.14e-6*C_L**6.53/(Re**0.99*tau**0.52*C_Dp**5.19)))\n",
    "        cost = C_D.prod()\n",
    "        return cost, constraints\n",
    "\n",
    "    def test(self):\n",
    "        self.substitutions.update({\"C_D\":10, \"C_L\":1, \"A\":1,\n",
    "                                   \"\\\\tau\": 1, \"Re\":1e4})\n",
    "        self.solve(verbosity=0)\n",
    "\n",
    "Drag().test()"
   ]
  },
  {
   "cell_type": "code",
   "execution_count": 20,
   "metadata": {
    "collapsed": false
   },
   "outputs": [],
   "source": [
    "class Engine(Model):\n",
    "    def setup(self):\n",
    "        T = Variable(\"T\", \"N\", \"Thrust force\")\n",
    "        rho = Variable(\"\\\\rho\", 0.91, \"kg/m^3\", \"Air density, 3000m\")\n",
    "        V = Variable(\"V\", \"m/s\", \"Flight speed\")\n",
    "        P = Variable(\"P\", \"W\", \"engine power\")\n",
    "        W_eng = Variable(\"W_{eng}\", \"N\")\n",
    "        A_prop   = Variable(\"A_{prop}\", 0.785, \"m^2\", \"Propeller disk area\")\n",
    "        eta_eng  = Variable(\"\\\\eta_{eng}\", 0.35, \"-\", \"Engine efficiency\")\n",
    "        eta_v    = Variable(\"\\\\eta_v\", 0.85, \"-\", \"Propeller viscous efficiency\")\n",
    "        eta_i    = Variable(\"\\\\eta_i\", \"-\", \"Aircraft efficiency\")\n",
    "        eta_prop = Variable(\"\\\\eta_{prop}\", \"-\", \"Propeller efficiency\")\n",
    "        eta_0    = Variable(\"\\\\eta_0\", \"-\")\n",
    "        \n",
    "        constraints = (eta_0 <= eta_eng*eta_prop,\n",
    "                       eta_prop <= eta_i*eta_v,\n",
    "                       4*eta_i + T*eta_i**2/(0.5*rho*V**2*A_prop) <= 4,\n",
    "                       P >= T*V/eta_0,\n",
    "                       W_eng >= 0.0372*P**0.8083 * units('N/W^0.8083'))\n",
    "        cost = W_eng\n",
    "        return cost, constraints\n",
    "\n",
    "    def test(self):\n",
    "        self.substitutions.update({\"T\":1e3, \"V\":20})\n",
    "        self.solve(verbosity=0)\n",
    "\n",
    "Engine().test()"
   ]
  },
  {
   "cell_type": "code",
   "execution_count": 51,
   "metadata": {
    "collapsed": false
   },
   "outputs": [],
   "source": [
    "class FuelBurn(Model):\n",
    "    def setup(self):\n",
    "        g = Variable(\"g\", 9.8, \"m/s^2\", \"Gravitational constant\")\n",
    "        eta_0 = Variable(\"\\\\eta_0\", 0.5, \"-\")\n",
    "        W_zfw  = Variable(\"W_{zfw}\", \"N\", \"Aircraft zero fuel weight\")\n",
    "        T = Variable(\"T\", \"N\", \"Thrust force\")\n",
    "        R_min  = Variable(\"R_{min}\", 10, \"m\", \"Minimum airplane range\")\n",
    "        h_fuel = Variable(\"h_{fuel}\", 42e6, \"J/kg\", \"fuel heating value\")\n",
    "        R      = Variable(\"R\", \"m\", \"Airplane range\")\n",
    "        z_bre  = Variable(\"z_{bre}\", \"-\")\n",
    "        W_fuel = Variable(\"W_{fuel}\", \"N\", \"Fuel weight\")\n",
    "\n",
    "        # 4th order taylor approximation for e^x\n",
    "        z_bre_sum = 0\n",
    "        for i in range(1,5):\n",
    "            z_bre_sum += z_bre**i/np.math.factorial(i)\n",
    "\n",
    "        constraints = (R >= R_min,\n",
    "                       z_bre >= g*R*T/(h_fuel*eta_0*W_zfw),\n",
    "                       W_fuel/W_zfw >= z_bre_sum)\n",
    "        cost = W_fuel\n",
    "        return cost, constraints\n",
    "\n",
    "    def test(self):\n",
    "        self.substitutions.update({\"T\":1e3, \"V\":20, \"W_{zfw}\":1e3})\n",
    "        self.solve(verbosity=0)\n",
    "\n",
    "FuelBurn().test()"
   ]
  },
  {
   "cell_type": "code",
   "execution_count": null,
   "metadata": {
    "collapsed": false
   },
   "outputs": [],
   "source": [
    "class WingBox(Model):\n",
    "    def setup(self):\n",
    "        g = Variable(\"g\", 9.8, \"m/s^2\", \"Gravitational constant\")\n",
    "        tau = Variable(\"\\\\tau\", \"-\")\n",
    "        A = Variable(\"A\", \"-\", \"Aspect Ratio\")\n",
    "        S = Variable(\"S\", \"m^2\", \"Wing area\")\n",
    "        W  = Variable(\"W\", \"N\", \"Aircraft weight\")\n",
    "        W_wing = Variable(\"W_{wing}\", \"N\")\n",
    "        W_tw = Variable(\"W_{tw}\", \"N\")\n",
    "        f_wadd = Variable(\"f_{wadd}\", 2, \"-\", \"Wing added weight fraction\")\n",
    "        N_lift         = Variable(\"N_{lift}\", 6.0, \"-\", \"Wing loading multiplier\")\n",
    "        sigma_max      = Variable(\"\\\\sigma_{max}\", 250e6, \"Pa\", \"Allowable stress, 6061-T6\")\n",
    "        sigma_maxshear = Variable(\"\\\\sigma_{max,shear}\", 167e6, \"Pa\", \"Allowable shear stress\")\n",
    "        w = Variable(\"w\", 0.5, \"-\", \"Wing-box width/chord\")\n",
    "        r_h = Variable(\"r_h\", 0.75, \"-\", \"Wing strut taper parameter\")\n",
    "        I_cap = Variable(\"I_{cap}\", \"m^4\", \"Area moment of inertia per unit chord\")\n",
    "        M_rbar = Variable(\"\\\\bar{M}_r\", \"-\")\n",
    "        rho_alum = Variable(\"\\\\rho_{alum}\", 2700, \"kg/m^3\", \"Density of aluminum\")\n",
    "        nu = Variable(\"\\\\nu\", \"-\")\n",
    "        p = Variable(\"p\", \"-\")\n",
    "        q = Variable(\"q\", \"-\")\n",
    "        t_cap = Variable(\"t_{cap}\", \"-\")\n",
    "        t_web = Variable(\"t_{web}\", \"-\")\n",
    "        W_cap = Variable(\"W_{cap}\", \"N\")\n",
    "        W_web = Variable(\"W_{web}\", \"N\")\n",
    "        \n",
    "        constraints = (2*q >= 1 + p,\n",
    "                       p >= 2.2,\n",
    "                       tau <= 0.25,\n",
    "                       M_rbar >= W_tw*A*p/(24*units.N),\n",
    "                       .92**2/2.*w*tau**2*t_cap >= I_cap * units.m**-4 + .92*w*tau*t_cap**2,\n",
    "                       8 >= N_lift*M_rbar*A*q**2*tau/S/I_cap/sigma_max * units('Pa*m**6'),\n",
    "                       12 >= A*W_tw*N_lift*q**2/tau/S/t_web/sigma_maxshear,\n",
    "                       nu**3.94 >= .86*p**-2.38 + .14*p**0.56,\n",
    "                       W_cap >= 8*rho_alum*g*w*t_cap*S**1.5*nu/3/A**.5,\n",
    "                       W_web >= 8*rho_alum*g*r_h*tau*t_web*S**1.5*nu/3/A**.5,\n",
    "                       W_wing/f_wadd >= W_cap + W_web)\n",
    "        cost = W_wing\n",
    "        return cost, constraints\n",
    "\n",
    "    def test(self):\n",
    "        self.substitutions.update({\"\\\\tau\":0.25, \"A\":1, \"S\":10,\n",
    "                                   \"W\":1e3, \"W_{tw}\":5e2})\n",
    "        self.solve(verbosity=0)\n",
    "\n",
    "WingBox().test()"
   ]
  },
  {
   "cell_type": "markdown",
   "metadata": {},
   "source": [
    "## Model()[key]\n",
    "\n",
    "`m[key]` will now look for any variables named `key` in `m`, counting their index (e.g. `x_{(0)}`) but not their modelname. Below this is used to pull variables out of submodels."
   ]
  },
  {
   "cell_type": "code",
   "execution_count": 41,
   "metadata": {
    "collapsed": false
   },
   "outputs": [
    {
     "name": "stdout",
     "output_type": "stream",
     "text": [
      "\n",
      "Cost\n",
      "----\n",
      " 6499 [N] \n",
      "\n",
      "Free Variables\n",
      "--------------\n",
      "          FlightSegment13 |                                                        \n",
      "                        A : 11.43             Aspect Ratio                         \n",
      "                      C_D : 0.01202           Wing drag coefficent                 \n",
      "                      C_L : 0.4203            Wing lift coefficent                 \n",
      "                       Re : 1.648e+07         Reynold's number                     \n",
      "                        S : 143.1      [m**2] Wing area                            \n",
      "                        T : 5856       [N]    Thrust force                         \n",
      "                        V : 86.49      [m/s]  Flight speed                         \n",
      "                        W : 2.047e+05  [N]    Aircraft weight                      \n",
      "                  W_{eng} : 5291       [N]                                         \n",
      "                  W_{eng} : 5291       [N]                                         \n",
      "                 W_{fuel} : 6499       [N]    Fuel weight                          \n",
      "                  W_{mto} : 2.112e+05  [N]    Maximum takeoff weight               \n",
      "                   W_{tw} : 1.502e+05  [N]                                         \n",
      "                 W_{wing} : 5.454e+04  [N]                                         \n",
      "                  W_{zfw} : 2.047e+05  [N]    Zero fuel weight                     \n",
      "                   \\eta_0 : 0.2135                                                 \n",
      "                     \\tau : 0.25                                                   \n",
      "                                                                                   \n",
      "FlightSegment13Cruising11 |                                                        \n",
      "                        A : 11.43             Aspect Ratio                         \n",
      "                      C_D : 0.01202           Wing drag coefficent                 \n",
      "                      C_L : 0.4203            Wing lift coefficent                 \n",
      "                       Re : 1.648e+07         Reynold's number                     \n",
      "                        S : 143.1      [m**2] Wing area                            \n",
      "                        T : 5856       [N]    Thrust force                         \n",
      "                        V : 86.49      [m/s]  Flight speed                         \n",
      "                        W : 2.047e+05  [N]    Aircraft weight                      \n",
      "                                                                                   \n",
      "    FlightSegment13Drag15 |                                                        \n",
      "                        A : 11.43             Aspect Ratio                         \n",
      "                      C_D : 0.01202           Wing drag coefficent                 \n",
      "                      C_L : 0.4203            Wing lift coefficent                 \n",
      "                  C_{D_p} : 0.006495          fit to xrotor drag                   \n",
      "                       Re : 1.648e+07         Reynold's number                     \n",
      "                        S : 143.1      [m**2] Wing area                            \n",
      "                     \\tau : 0.25                                                   \n",
      "                                                                                   \n",
      "  FlightSegment13Engine15 |                                                        \n",
      "                        P : 2.372e+06  [W]    engine power                         \n",
      "                        T : 5856       [N]    Thrust force                         \n",
      "                        V : 86.49      [m/s]  Flight speed                         \n",
      "                  W_{eng} : 5291       [N]                                         \n",
      "                   \\eta_0 : 0.2135                                                 \n",
      "                   \\eta_i : 0.7178            Aircraft efficiency                  \n",
      "              \\eta_{prop} : 0.6101            Propeller efficiency                 \n",
      "                                                                                   \n",
      "FlightSegment13FuelBurn17 |                                                        \n",
      "                        R : 1e+06      [m]    Airplane range                       \n",
      "                        T : 5856       [N]    Thrust force                         \n",
      "                        W : 2.047e+05  [N]    Aircraft weight                      \n",
      "                 W_{fuel} : 6499       [N]    Fuel weight                          \n",
      "                   \\eta_0 : 0.2135                                                 \n",
      "                  z_{bre} : 0.03125                                                \n",
      "                                                                                   \n",
      " FlightSegment13Landing17 |                                                        \n",
      "                        S : 143.1      [m**2] Wing area                            \n",
      "                V_{stall} : 40         [m/s]  Stall speed                          \n",
      "                  W_{mto} : 2.112e+05  [N]    Maximum takeoff weight               \n",
      "                                                                                   \n",
      " FlightSegment13WingBox16 |                                                        \n",
      "                        A : 11.43             Aspect Ratio                         \n",
      "                  I_{cap} : 2.415e-05  [m**4] Area moment of inertia per unit chord\n",
      "                        S : 143.1      [m**2] Wing area                            \n",
      "                  W_{cap} : 2.538e+04  [N]                                         \n",
      "                   W_{tw} : 1.502e+05  [N]                                         \n",
      "                  W_{web} : 1887       [N]                                         \n",
      "                 W_{wing} : 5.454e+04  [N]                                         \n",
      "                \\bar{M}_r : 1.574e+05                                              \n",
      "                      \\nu : 0.7658                                                 \n",
      "                     \\tau : 0.25                                                   \n",
      "                        p : 2.2                                                    \n",
      "                        q : 1.6                                                    \n",
      "                  t_{cap} : 0.001856                                               \n",
      "                  t_{web} : 0.0003679                                              \n",
      "\n"
     ]
    }
   ],
   "source": [
    "class FlightSegment(Model):\n",
    "    def setup(self):\n",
    "        landing = Landing()\n",
    "        cruising = Cruising()\n",
    "        drag = Drag()\n",
    "        engine = Engine()\n",
    "        fuel = FuelBurn()\n",
    "        spar = WingBox()\n",
    "\n",
    "        W  = cruising[\"W\"]\n",
    "        W_tw = spar[\"W_{tw}\"]\n",
    "        W_wing = spar[\"W_{wing}\"]\n",
    "        W_mto = landing[\"W_{mto}\"]\n",
    "        W_fuel = fuel[\"W_{fuel}\"]\n",
    "\n",
    "        g = Variable(\"g\", 9.8, \"m/s^2\", \"Gravitational constant\")\n",
    "        W_zfw = Variable(\"W_{zfw}\", \"N\", \"Zero fuel weight\")\n",
    "        W_eng = Variable(\"W_{eng}\", 2e3, \"N\")\n",
    "        m_pay = Variable(\"m_{pay}\", 500, \"kg\")\n",
    "        W_fixed = Variable(\"W_{fixed}\", 14e4, \"N\", \"Fixed weight\")\n",
    "\n",
    "        constraints = [W_tw >= W_fixed + g*m_pay + W_eng,\n",
    "                       W_zfw >= W_tw + W_wing,\n",
    "                       W >= W_zfw,\n",
    "                       W_mto >= W + W_fuel]\n",
    "\n",
    "        model = Model(W_fuel, constraints)\n",
    "\n",
    "        for subm in [landing, cruising, drag, engine, fuel, spar]:\n",
    "            model = model & subm\n",
    "\n",
    "        return model\n",
    "\n",
    "    def test(self):\n",
    "         self.solve(verbosity=0)\n",
    "    \n",
    "print FlightSegment().solve(verbosity=0).table([\"cost\", \"freevariables\"])"
   ]
  },
  {
   "cell_type": "code",
   "execution_count": 9,
   "metadata": {
    "collapsed": false,
    "slideshow": {
     "slide_type": "slide"
    }
   },
   "outputs": [
    {
     "name": "stdout",
     "output_type": "stream",
     "text": [
      "Free Variables\n",
      "--------------\n",
      "              Mission |                                                        \n",
      "                    A : 20.68             Aspect Ratio                         \n",
      "              I_{cap} : 7.559e-05  [m**4] Area moment of inertia per unit chord\n",
      "                    P : 1.237e+06  [W]    engine power                         \n",
      "                    R : 1e+06      [m]    Airplane range                       \n",
      "                    S : 22.63      [m**2] Wing area                            \n",
      "            V_{stall} : 40         [m/s]  Stall speed                          \n",
      "              W_{cap} : 3857       [N]                                         \n",
      "              W_{eng} : 3125       [N]                                         \n",
      "              W_{mto} : 3.34e+04   [N]    Maximum takeoff weight               \n",
      "               W_{tw} : 2.273e+04  [N]                                         \n",
      "              W_{web} : 152.7      [N]                                         \n",
      "             W_{wing} : 8019       [N]                                         \n",
      "              W_{zfw} : 3.074e+04  [N]    Zero fuel weight                     \n",
      "            \\bar{M}_r : 4.308e+04                                              \n",
      "                  \\nu : 0.7658                                                 \n",
      "                 \\tau : 0.25                                                   \n",
      "                    p : 2.2                                                    \n",
      "                    q : 1.6                                                    \n",
      "              t_{cap} : 0.006032                                               \n",
      "              t_{web} : 0.0006368                                              \n",
      "                                                                               \n",
      "MissionFlightSegment1 |                                                        \n",
      "                  C_D : 0.0168            Wing drag coefficent                 \n",
      "                  C_L : 0.6805            Wing lift coefficent                 \n",
      "                   Re : 3.771e+06         Reynold's number                     \n",
      "                    T : 775.4      [N]    Thrust force                         \n",
      "                    V : 66.96      [m/s]  Flight speed                         \n",
      "                    W : 3.141e+04  [N]    Aircraft weight                      \n",
      "              W_{eng} : 3125       [N]                                         \n",
      "             W_{fuel} : 681.8      [N]    Fuel weight                          \n",
      "              W_{zfw} : 3.074e+04  [N]    Zero fuel weight                     \n",
      "               \\eta_0 : 0.2682                                                 \n",
      "                                                                               \n",
      "MissionFlightSegment2 |                                                        \n",
      "                  C_D : 0.01681           Wing drag coefficent                 \n",
      "                  C_L : 0.6807            Wing lift coefficent                 \n",
      "                   Re : 3.731e+06         Reynold's number                     \n",
      "                    T : 759.3      [N]    Thrust force                         \n",
      "                    V : 66.24      [m/s]  Flight speed                         \n",
      "                    W : 3.074e+04  [N]    Aircraft weight                      \n",
      "              W_{eng} : 3125       [N]                                         \n",
      "             W_{fuel} : 667.7      [N]    Fuel weight                          \n",
      "              W_{zfw} : 3.074e+04  [N]    Zero fuel weight                     \n",
      "               \\eta_0 : 0.2682                                                 \n",
      "                                                                               \n",
      "MissionFlightSegment3 |                                                        \n",
      "                  C_D : 0.009923          Wing drag coefficent                 \n",
      "                  C_L : 0.1356            Wing lift coefficent                 \n",
      "                   Re : 8.449e+06         Reynold's number                     \n",
      "                    T : 2299       [N]    Thrust force                         \n",
      "                    V : 150        [m/s]  Flight speed                         \n",
      "                    W : 3.141e+04  [N]    Aircraft weight                      \n",
      "              W_{eng} : 3125       [N]                                         \n",
      "             W_{fuel} : 1984       [N]    Fuel weight                          \n",
      "              W_{zfw} : 3.074e+04  [N]    Zero fuel weight                     \n",
      "               \\eta_0 : 0.2788                                                 \n",
      "\n"
     ]
    }
   ],
   "source": [
    "class Mission(Model):\n",
    "    def setup(self):\n",
    "        there = FlightSegment()\n",
    "        back = FlightSegment()\n",
    "        sprint = FlightSegment()\n",
    "        \n",
    "        self.flightmodelnames = [there.modelname, back.modelname, sprint.modelname]\n",
    "\n",
    "        V_sprint = Variable(\"V_{sprintreqt}\", 150, \"m/s\", \"sprint speed requirement\")\n",
    "\n",
    "        model = Model(there[\"W_{fuel}\"] + back[\"W_{fuel}\"],\n",
    "                      [there[\"W\"] >= there[\"W_{zfw}\"] + back[\"W_{fuel}\"],\n",
    "                       sprint[\"W\"] == there[\"W\"],\n",
    "                       sprint[\"V\"] >= V_sprint])\n",
    "\n",
    "        exvars = [\"V\", \"C_L\", \"C_D\", \"C_{D_{fuse}}\", \"C_{D_p}\", \"C_{D_i}\", \"T\",\n",
    "                  \"Re\", \"W\", \"\\\\eta_i\", \"\\\\eta_{prop}\", \"\\\\eta_0\", \"W_{fuel}\", \"z_{bre}\"]\n",
    "\n",
    "        for fl in there, back, sprint:\n",
    "            fl.substitutions = {k: v for k, v in fl.substitutions.items()\n",
    "                                if k.nomstr in exvars}\n",
    "            model = model.merge(fl, excluded=exvars)\n",
    "        \n",
    "        return model\n",
    "\n",
    "ap = Mission()\n",
    "ap.solve(verbosity=0)\n",
    "modelnames = [ap.modelname] + [ap.modelname+flname for flname in ap.flightmodelnames]\n",
    "print ap.solution.table([\"freevariables\"], included_models=modelnames)"
   ]
  },
  {
   "cell_type": "code",
   "execution_count": null,
   "metadata": {
    "collapsed": false
   },
   "outputs": [],
   "source": [
    "from IPython.paths import get_ipython_dir\n",
    "from IPython.core.display import HTML\n",
    "import os\n",
    "def css_styling():\n",
    "    \"\"\"Load default custom.css file from ipython profile\"\"\"\n",
    "    base = get_ipython_dir()\n",
    "    styles = \"<style>\\n%s\\n</style>\" % (open(os.path.join(base,'profile_default/static/custom/custom.css'),'r').read())\n",
    "    return HTML(styles)\n",
    "css_styling()"
   ]
  }
 ],
 "metadata": {
  "kernelspec": {
   "display_name": "Python 2",
   "language": "python",
   "name": "python2"
  },
  "language_info": {
   "codemirror_mode": {
    "name": "ipython",
    "version": 2
   },
   "file_extension": ".py",
   "mimetype": "text/x-python",
   "name": "python",
   "nbconvert_exporter": "python",
   "pygments_lexer": "ipython2",
   "version": "2.7.10"
  }
 },
 "nbformat": 4,
 "nbformat_minor": 0
}
