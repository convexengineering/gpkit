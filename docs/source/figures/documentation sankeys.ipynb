{
 "cells": [
  {
   "cell_type": "code",
   "execution_count": 1,
   "metadata": {},
   "outputs": [
    {
     "data": {
      "text/html": [
       "<style>\n",
       ".sankey .node {\n",
       "    font-family: Myriad Pro;\n",
       "}\n",
       "</style>\n"
      ],
      "text/plain": [
       "<IPython.core.display.HTML object>"
      ]
     },
     "metadata": {},
     "output_type": "display_data"
    }
   ],
   "source": [
    "%%html\n",
    "<style>\n",
    ".sankey .node {\n",
    "    font-family: Myriad Pro;\n",
    "}\n",
    "</style>"
   ]
  },
  {
   "cell_type": "code",
   "execution_count": 2,
   "metadata": {},
   "outputs": [
    {
     "name": "stderr",
     "output_type": "stream",
     "text": [
      "/home/tao/projects/ce/venv/local/lib/python3.5/site-packages/pint/quantity.py:1377: UnitStrippedWarning: The unit of the quantity is stripped.\n",
      "  warnings.warn(\"The unit of the quantity is stripped.\", UnitStrippedWarning)\n"
     ]
    },
    {
     "name": "stdout",
     "output_type": "stream",
     "text": [
      "Starting a sequence of GP solves\n",
      " for 97 free variables\n",
      "  in 23 locally-GP constraints\n",
      "  and for 1032 free variables\n",
      "       in 1384 posynomial inequalities.\n",
      "Solving took 1.29 seconds and 4 GP solves.\n",
      "Warning: Variable Mission.Climb.AircraftDrag.WingAero.CL[:] could cause inaccurate result because it is below lower bound. Solution is 1.0302 but bound is 0.9465\n",
      "Warning: Variable Mission.Climb.AircraftDrag.WingAero.Re[:] could cause inaccurate result because it is above upper bound. Solution is 1230806.2495 but bound is 600000.0000\n",
      "Warning: Variable Mission.Climb.AircraftDrag.TailAero1.Re[:] could cause inaccurate result because it is above upper bound. Solution is 1152795.0157 but bound is 1000000.0000\n"
     ]
    },
    {
     "name": "stderr",
     "output_type": "stream",
     "text": [
      "/home/tao/projects/ce/venv/local/lib/python3.5/site-packages/pint/quantity.py:1377: UnitStrippedWarning: The unit of the quantity is stripped.\n",
      "  warnings.warn(\"The unit of the quantity is stripped.\", UnitStrippedWarning)\n"
     ]
    }
   ],
   "source": [
    "from solar.solar import *\n",
    "Vehicle = Aircraft(Npod=3, sp=True)\n",
    "M = Mission(Vehicle, latitude=[20])\n",
    "M.cost = M[M.aircraft.Wtotal]\n",
    "sol = M.localsolve(\"mosek_cli\")"
   ]
  },
  {
   "cell_type": "code",
   "execution_count": 3,
   "metadata": {},
   "outputs": [
    {
     "data": {
      "application/vnd.jupyter.widget-view+json": {
       "model_id": "df02a5fc4e5b454487bb7fc6c97b7714",
       "version_major": 2,
       "version_minor": 0
      },
      "text/plain": [
       "SankeyWidget(layout=Layout(height='400', width='1000'), links=[{'target': 'Mission', 'source': 'Mission.0001',…"
      ]
     },
     "metadata": {},
     "output_type": "display_data"
    }
   ],
   "source": [
    "import gpkit.interactive.sankey\n",
    "from importlib import reload\n",
    "reload(gpkit.interactive.sankey)\n",
    "Sankey = gpkit.interactive.sankey.Sankey\n",
    "\n",
    "Sankey(sol, M).diagram(minsenss=1)"
   ]
  },
  {
   "cell_type": "code",
   "execution_count": 4,
   "metadata": {},
   "outputs": [
    {
     "data": {
      "application/vnd.jupyter.widget-view+json": {
       "model_id": "ebfa436a0899442cb726197d54f5f3f0",
       "version_major": 2,
       "version_minor": 0
      },
      "text/plain": [
       "SankeyWidget(layout=Layout(height='400', width='1000'), links=[{'target': 'b [ft].0001.0003', 'source': 'b [ft…"
      ]
     },
     "metadata": {},
     "output_type": "display_data"
    }
   ],
   "source": [
    "Sankey(sol, M, \"SolarMission\").diagram(M.aircraft.wing.planform.b, showconstraints=False)"
   ]
  },
  {
   "cell_type": "code",
   "execution_count": 5,
   "metadata": {},
   "outputs": [
    {
     "data": {
      "application/vnd.jupyter.widget-view+json": {
       "model_id": "10a90f3a45e6457c80f21b9d13d87598",
       "version_major": 2,
       "version_minor": 0
      },
      "text/plain": [
       "SankeyWidget(layout=Layout(height='400', width='1000'), links=[{'target': 'Wtotal [lbf].0001.0002', 'source': …"
      ]
     },
     "metadata": {},
     "output_type": "display_data"
    }
   ],
   "source": [
    "Sankey(sol, M, \"SolarMission\").diagram(M.aircraft.Wtotal)"
   ]
  },
  {
   "cell_type": "code",
   "execution_count": 6,
   "metadata": {},
   "outputs": [
    {
     "data": {
      "application/vnd.jupyter.widget-view+json": {
       "model_id": "155a99723c68418e9e46bd5d6b7f0363",
       "version_major": 2,
       "version_minor": 0
      },
      "text/plain": [
       "SankeyWidget(layout=Layout(height='400', width='1000'), links=[{'target': 'Nprop.0001', 'source': 'Nprop.0001.…"
      ]
     },
     "metadata": {},
     "output_type": "display_data"
    }
   ],
   "source": [
    "Sankey(sol, M, \"SolarMission\").diagram(M[\"Nprop\"])"
   ]
  },
  {
   "cell_type": "code",
   "execution_count": 7,
   "metadata": {},
   "outputs": [
    {
     "data": {
      "application/vnd.jupyter.widget-view+json": {
       "model_id": "025b6a627b26428e999b0da8bb413f43",
       "version_major": 2,
       "version_minor": 0
      },
      "text/plain": [
       "SankeyWidget(layout=Layout(height='400', width='1000'), links=[{'target': 'CFRPFabric.tmin [mm].0001.0001.0016…"
      ]
     },
     "metadata": {},
     "output_type": "display_data"
    }
   ],
   "source": [
    "Sankey(sol, M, \"SolarMission\").diagram(M.variables_byname(\"tmin\")[0], left=100)"
   ]
  },
  {
   "cell_type": "code",
   "execution_count": 8,
   "metadata": {},
   "outputs": [
    {
     "data": {
      "application/vnd.jupyter.widget-view+json": {
       "model_id": "af994c4ce1f04d3f9a31a0729749ccc0",
       "version_major": 2,
       "version_minor": 0
      },
      "text/plain": [
       "SankeyWidget(layout=Layout(height='700', width='1000'), links=[{'target': 'SolarMission.0003', 'source': 'Sola…"
      ]
     },
     "metadata": {},
     "output_type": "display_data"
    }
   ],
   "source": [
    "import gpkit.interactive.sankey\n",
    "from importlib import reload\n",
    "reload(gpkit.interactive.sankey)\n",
    "Sankey = gpkit.interactive.sankey.Sankey\n",
    "\n",
    "Sankey(sol, M, \"SolarMission\").diagram(maxlinks=30, showconstraints=False, height=700, left=100)"
   ]
  },
  {
   "cell_type": "code",
   "execution_count": 9,
   "metadata": {},
   "outputs": [
    {
     "data": {
      "application/vnd.jupyter.widget-view+json": {
       "model_id": "ba91292ed7b34b4ca858dcb02e2a5d60",
       "version_major": 2,
       "version_minor": 0
      },
      "text/plain": [
       "SankeyWidget(layout=Layout(height='400', width='1200'), links=[{'target': 'Model.0001.0002.0002.0003.0001', 's…"
      ]
     },
     "metadata": {},
     "output_type": "display_data"
    }
   ],
   "source": [
    "\"\"\"Modular aircraft concept\"\"\"\n",
    "import pickle\n",
    "import numpy as np\n",
    "from gpkit import Model, Vectorize, parse_variables\n",
    "\n",
    "\n",
    "class AircraftP(Model):\n",
    "    \"\"\"Aircraft flight physics: weight <= lift, fuel burn\n",
    "\n",
    "    Variables\n",
    "    ---------\n",
    "    Wfuel  [lbf]  fuel weight\n",
    "    Wburn  [lbf]  segment fuel burn\n",
    "\n",
    "    Upper Unbounded\n",
    "    ---------------\n",
    "    Wburn, aircraft.wing.c, aircraft.wing.A\n",
    "\n",
    "    Lower Unbounded\n",
    "    ---------------\n",
    "    Wfuel, aircraft.W, state.mu\n",
    "\n",
    "    \"\"\"\n",
    "    @parse_variables(__doc__, globals())\n",
    "    def setup(self, aircraft, state):\n",
    "        self.aircraft = aircraft\n",
    "        self.state = state\n",
    "\n",
    "        self.wing_aero = aircraft.wing.dynamic(aircraft.wing, state)\n",
    "        self.perf_models = [self.wing_aero]\n",
    "\n",
    "        W = aircraft.W\n",
    "        S = aircraft.wing.S\n",
    "\n",
    "        V = state.V\n",
    "        rho = state.rho\n",
    "\n",
    "        D = self.wing_aero.D\n",
    "        CL = self.wing_aero.CL\n",
    "\n",
    "        return Wburn >= 0.1*D, W + Wfuel <= 0.5*rho*CL*S*V**2, {\n",
    "            \"performance\":\n",
    "                self.perf_models}\n",
    "\n",
    "\n",
    "class Aircraft(Model):\n",
    "    \"\"\"The vehicle model\n",
    "\n",
    "    Variables\n",
    "    ---------\n",
    "    W  [lbf]  weight\n",
    "\n",
    "    Upper Unbounded\n",
    "    ---------------\n",
    "    W\n",
    "\n",
    "    Lower Unbounded\n",
    "    ---------------\n",
    "    wing.c, wing.S\n",
    "    \"\"\"\n",
    "    @parse_variables(__doc__, globals())\n",
    "    def setup(self):\n",
    "        self.fuse = Fuselage()\n",
    "        self.wing = Wing()\n",
    "        self.components = [self.fuse, self.wing]\n",
    "\n",
    "        return [W >= sum(c.W for c in self.components),\n",
    "                self.components]\n",
    "\n",
    "    dynamic = AircraftP\n",
    "\n",
    "\n",
    "class FlightState(Model):\n",
    "    \"\"\"Context for evaluating flight physics\n",
    "\n",
    "    Variables\n",
    "    ---------\n",
    "    V     40       [knots]    true airspeed\n",
    "    mu    1.628e-5 [N*s/m^2]  dynamic viscosity\n",
    "    rho   0.74     [kg/m^3]   air density\n",
    "\n",
    "    \"\"\"\n",
    "    @parse_variables(__doc__, globals())\n",
    "    def setup(self):\n",
    "        pass\n",
    "\n",
    "\n",
    "class FlightSegment(Model):\n",
    "    \"\"\"Combines a context (flight state) and a component (the aircraft)\n",
    "\n",
    "    Upper Unbounded\n",
    "    ---------------\n",
    "    Wburn, aircraft.wing.c, aircraft.wing.A\n",
    "\n",
    "    Lower Unbounded\n",
    "    ---------------\n",
    "    Wfuel, aircraft.W\n",
    "\n",
    "    \"\"\"\n",
    "    def setup(self, aircraft):\n",
    "        self.aircraft = aircraft\n",
    "\n",
    "        self.flightstate = FlightState()\n",
    "        self.aircraftp = aircraft.dynamic(aircraft, self.flightstate)\n",
    "\n",
    "        self.Wburn = self.aircraftp.Wburn\n",
    "        self.Wfuel = self.aircraftp.Wfuel\n",
    "\n",
    "        return {\"aircraft performance\": self.aircraftp,\n",
    "                \"flightstate\": self.flightstate}\n",
    "\n",
    "\n",
    "class Mission(Model):\n",
    "    \"\"\"A sequence of flight segments\n",
    "\n",
    "    Upper Unbounded\n",
    "    ---------------\n",
    "    aircraft.wing.c, aircraft.wing.A\n",
    "\n",
    "    Lower Unbounded\n",
    "    ---------------\n",
    "    aircraft.W\n",
    "    \"\"\"\n",
    "    def setup(self, aircraft):\n",
    "        self.aircraft = aircraft\n",
    "\n",
    "        with Vectorize(4):  # four flight segments\n",
    "            self.fs = FlightSegment(aircraft)\n",
    "\n",
    "        Wburn = self.fs.aircraftp.Wburn\n",
    "        Wfuel = self.fs.aircraftp.Wfuel\n",
    "        self.takeoff_fuel = Wfuel[0]\n",
    "\n",
    "        return {\n",
    "            \"fuel constraints\":\n",
    "                [Wfuel[:-1] >= Wfuel[1:] + Wburn[:-1],\n",
    "                 Wfuel[-1] >= Wburn[-1]],\n",
    "            \"flight segment\":\n",
    "                self.fs}\n",
    "\n",
    "\n",
    "class WingAero(Model):\n",
    "    \"\"\"Wing aerodynamics\n",
    "\n",
    "    Variables\n",
    "    ---------\n",
    "    CD      [-]    drag coefficient\n",
    "    CL      [-]    lift coefficient\n",
    "    e   0.9 [-]    Oswald efficiency\n",
    "    Re      [-]    Reynold's number\n",
    "    D       [lbf]  drag force\n",
    "\n",
    "    Upper Unbounded\n",
    "    ---------------\n",
    "    D, Re, wing.A, state.mu\n",
    "\n",
    "    Lower Unbounded\n",
    "    ---------------\n",
    "    CL, wing.S, state.mu, state.rho, state.V\n",
    "    \"\"\"\n",
    "    @parse_variables(__doc__, globals())\n",
    "    def setup(self, wing, state):\n",
    "        self.wing = wing\n",
    "        self.state = state\n",
    "\n",
    "        c = wing.c\n",
    "        A = wing.A\n",
    "        S = wing.S\n",
    "        rho = state.rho\n",
    "        V = state.V\n",
    "        mu = state.mu\n",
    "\n",
    "        return [D >= 0.5*rho*V**2*CD*S,\n",
    "                Re == rho*V*c/mu,\n",
    "                CD >= 0.074/Re**0.2 + CL**2/np.pi/A/e]\n",
    "\n",
    "\n",
    "class Wing(Model):\n",
    "    \"\"\"Aircraft wing model\n",
    "\n",
    "    Variables\n",
    "    ---------\n",
    "    W        [lbf]       weight\n",
    "    S        [ft^2]      surface area\n",
    "    rho    1 [lbf/ft^2]  areal density\n",
    "    A     27 [-]         aspect ratio\n",
    "    c        [ft]        mean chord\n",
    "\n",
    "    Upper Unbounded\n",
    "    ---------------\n",
    "    W\n",
    "\n",
    "    Lower Unbounded\n",
    "    ---------------\n",
    "    c, S\n",
    "    \"\"\"\n",
    "    @parse_variables(__doc__, globals())\n",
    "    def setup(self):\n",
    "        return [c == (S/A)**0.5,\n",
    "                W >= S*rho]\n",
    "\n",
    "    dynamic = WingAero\n",
    "\n",
    "\n",
    "class Fuselage(Model):\n",
    "    \"\"\"The thing that carries the fuel, engine, and payload\n",
    "\n",
    "    A full model is left as an exercise for the reader.\n",
    "\n",
    "    Variables\n",
    "    ---------\n",
    "    W  100 [lbf]  weight\n",
    "\n",
    "    \"\"\"\n",
    "    @parse_variables(__doc__, globals())\n",
    "    def setup(self):\n",
    "        pass\n",
    "\n",
    "AC = Aircraft()\n",
    "MISSION = Mission(AC)\n",
    "M = Model(MISSION.takeoff_fuel, [MISSION, AC])\n",
    "# print(M)\n",
    "sol = M.solve(verbosity=0)\n",
    "# save solution to some files\n",
    "# sol.savemat()\n",
    "# sol.savecsv()\n",
    "# sol.savetxt()\n",
    "# sol.save(\"solution.pkl\")\n",
    "# retrieve solution from a file\n",
    "# sol_loaded = pickle.load(open(\"solution.pkl\", \"rb\"))\n",
    "\n",
    "vars_of_interest = set(AC.varkeys)\n",
    "# note that there's two ways to access submodels\n",
    "assert (MISSION[\"flight segment\"][\"aircraft performance\"]\n",
    "        is MISSION.fs.aircraftp)\n",
    "vars_of_interest.update(MISSION.fs.aircraftp.unique_varkeys)\n",
    "vars_of_interest.add(M[\"D\"])\n",
    "# print(sol.summary(vars_of_interest))\n",
    "# print(sol.table(tables=[\"loose constraints\"]))\n",
    "\n",
    "M.append(MISSION.fs.aircraftp.Wburn >= 0.2*MISSION.fs.aircraftp.wing_aero.D)\n",
    "sol = M.solve(verbosity=0)\n",
    "# print(sol.diff(\"solution.pkl\", showvars=vars_of_interest, sortbymodel=False))\n",
    "\n",
    "# this will only make an image when run in jupyter notebook\n",
    "# from gpkit.interactive.sankey import Sankey\n",
    "from gpkit.interactive.sankey import Sankey\n",
    "variablesankey = Sankey(sol, M).diagram(AC.wing.A)\n",
    "sankey = Sankey(sol, M).diagram(width=1200, height=400, maxlinks=30)\n",
    "sankey  # pylint: disable=pointless-statement"
   ]
  }
 ],
 "metadata": {
  "kernelspec": {
   "display_name": "Python 3",
   "language": "python",
   "name": "python3"
  },
  "language_info": {
   "codemirror_mode": {
    "name": "ipython",
    "version": 3
   },
   "file_extension": ".py",
   "mimetype": "text/x-python",
   "name": "python",
   "nbconvert_exporter": "python",
   "pygments_lexer": "ipython3",
   "version": "3.5.2"
  }
 },
 "nbformat": 4,
 "nbformat_minor": 4
}
