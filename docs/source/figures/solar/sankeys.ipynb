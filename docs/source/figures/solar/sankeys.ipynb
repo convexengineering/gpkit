{
 "cells": [
  {
   "cell_type": "code",
   "execution_count": 1,
   "metadata": {},
   "outputs": [
    {
     "data": {
      "text/html": [
       "<style>\n",
       ".sankey .node {\n",
       "    font-family: Myriad Pro;\n",
       "}\n",
       "</style>\n"
      ],
      "text/plain": [
       "<IPython.core.display.HTML object>"
      ]
     },
     "metadata": {},
     "output_type": "display_data"
    }
   ],
   "source": [
    "%%html\n",
    "<style>\n",
    ".sankey .node {\n",
    "    font-family: Myriad Pro;\n",
    "}\n",
    "</style>"
   ]
  },
  {
   "cell_type": "code",
   "execution_count": 2,
   "metadata": {},
   "outputs": [
    {
     "name": "stderr",
     "output_type": "stream",
     "text": [
      "/home/tao/projects/ce/venv/local/lib/python3.5/site-packages/pint/quantity.py:1377: UnitStrippedWarning: The unit of the quantity is stripped.\n",
      "  warnings.warn(\"The unit of the quantity is stripped.\", UnitStrippedWarning)\n"
     ]
    },
    {
     "name": "stdout",
     "output_type": "stream",
     "text": [
      "Starting a sequence of GP solves\n",
      " for 97 free variables\n",
      "  in 23 locally-GP constraints\n",
      "  and for 1032 free variables\n",
      "       in 1384 posynomial inequalities.\n",
      "Solving took 1.31 seconds and 4 GP solves.\n",
      "Warning: Variable Mission.Climb.AircraftDrag.WingAero.CL[:] could cause inaccurate result because it is below lower bound. Solution is 1.0302 but bound is 0.9465\n",
      "Warning: Variable Mission.Climb.AircraftDrag.WingAero.Re[:] could cause inaccurate result because it is above upper bound. Solution is 1230806.2495 but bound is 600000.0000\n",
      "Warning: Variable Mission.Climb.AircraftDrag.TailAero1.Re[:] could cause inaccurate result because it is above upper bound. Solution is 1152795.0157 but bound is 1000000.0000\n"
     ]
    },
    {
     "name": "stderr",
     "output_type": "stream",
     "text": [
      "/home/tao/projects/ce/venv/local/lib/python3.5/site-packages/pint/quantity.py:1377: UnitStrippedWarning: The unit of the quantity is stripped.\n",
      "  warnings.warn(\"The unit of the quantity is stripped.\", UnitStrippedWarning)\n"
     ]
    }
   ],
   "source": [
    "from solar.solar import *\n",
    "Vehicle = Aircraft(Npod=3, sp=True)\n",
    "M = Mission(Vehicle, latitude=[20])\n",
    "M.cost = M[M.aircraft.Wtotal]\n",
    "sol = M.localsolve(\"mosek_cli\")"
   ]
  },
  {
   "cell_type": "code",
   "execution_count": 20,
   "metadata": {},
   "outputs": [
    {
     "data": {
      "application/vnd.jupyter.widget-view+json": {
       "model_id": "8a71d9d013db43d0baded1a5f33931b6",
       "version_major": 2,
       "version_minor": 0
      },
      "text/plain": [
       "SankeyWidget(layout=Layout(height='400', width='900'), links=[{'value': 6.76256, 'color': '#FA3333', 'title': …"
      ]
     },
     "metadata": {},
     "output_type": "display_data"
    }
   ],
   "source": [
    "import gpkit.interactive.sankey\n",
    "from importlib import reload\n",
    "reload(gpkit.interactive.sankey)\n",
    "Sankey = gpkit.interactive.sankey.Sankey\n",
    "\n",
    "Sankey(sol, M, \"SolarMission\").diagram(M.aircraft.Wtotal, left=210, right=130)"
   ]
  },
  {
   "cell_type": "code",
   "execution_count": 11,
   "metadata": {},
   "outputs": [
    {
     "name": "stdout",
     "output_type": "stream",
     "text": [
      "Links exceed link limit (354 > 50); skipping constraints inside arrays.\n",
      "Links exceed link limit (106 > 50); skipping all constraints.\n"
     ]
    },
    {
     "data": {
      "application/vnd.jupyter.widget-view+json": {
       "model_id": "2d4bbcdad58a4713af253c98399a7a98",
       "version_major": 2,
       "version_minor": 0
      },
      "text/plain": [
       "SankeyWidget(layout=Layout(height='400', width='900'), links=[{'value': 1.2952713218999998, 'color': '#FA3333'…"
      ]
     },
     "metadata": {},
     "output_type": "display_data"
    }
   ],
   "source": [
    "Sankey(sol, M, \"SolarMission\").diagram(M.aircraft.b, right=180)"
   ]
  },
  {
   "cell_type": "code",
   "execution_count": 12,
   "metadata": {},
   "outputs": [
    {
     "data": {
      "application/vnd.jupyter.widget-view+json": {
       "model_id": "d9ec98723f8842e4b452f3f22d9c550d",
       "version_major": 2,
       "version_minor": 0
      },
      "text/plain": [
       "SankeyWidget(layout=Layout(height='400', width='900'), links=[{'value': 0.08059499999999975, 'color': '#FA3333…"
      ]
     },
     "metadata": {},
     "output_type": "display_data"
    }
   ],
   "source": [
    "Sankey(sol, M, \"SolarMission\").diagram(M[\"Nprop\"], left=240)"
   ]
  },
  {
   "cell_type": "code",
   "execution_count": 13,
   "metadata": {},
   "outputs": [
    {
     "data": {
      "application/vnd.jupyter.widget-view+json": {
       "model_id": "97fa1183a5e644b88fd9042bfce734c1",
       "version_major": 2,
       "version_minor": 0
      },
      "text/plain": [
       "SankeyWidget(layout=Layout(height='400', width='900'), links=[{'value': 0.007205549, 'color': '#cfcfcf', 'titl…"
      ]
     },
     "metadata": {},
     "output_type": "display_data"
    }
   ],
   "source": [
    "Sankey(sol, M, \"SolarMission\").diagram(M.variables_byname(\"tmin\")[0], right=160, left=10)"
   ]
  },
  {
   "cell_type": "code",
   "execution_count": 24,
   "metadata": {},
   "outputs": [
    {
     "name": "stdout",
     "output_type": "stream",
     "text": [
      "Links exceed link limit (1376 > 50); skipping constraints inside arrays.\n",
      "Links exceed link limit (431 > 50); skipping all constraints.\n",
      "Links exceed link limit (53 > 50); skipping constraint labels.\n"
     ]
    },
    {
     "data": {
      "application/vnd.jupyter.widget-view+json": {
       "model_id": "db46e4d7296d4d228ead0f93b9429e02",
       "version_major": 2,
       "version_minor": 0
      },
      "text/plain": [
       "SankeyWidget(layout=Layout(height='700', width='1000'), links=[{'value': 0.01231306810343838, 'color': '#59ade…"
      ]
     },
     "metadata": {},
     "output_type": "display_data"
    }
   ],
   "source": [
    "Sankey(sol, M, \"SolarMission\").diagram(height=700, width=1000)"
   ]
  }
 ],
 "metadata": {
  "kernelspec": {
   "display_name": "Python 3",
   "language": "python",
   "name": "python3"
  },
  "language_info": {
   "codemirror_mode": {
    "name": "ipython",
    "version": 3
   },
   "file_extension": ".py",
   "mimetype": "text/x-python",
   "name": "python",
   "nbconvert_exporter": "python",
   "pygments_lexer": "ipython3",
   "version": "3.5.2"
  }
 },
 "nbformat": 4,
 "nbformat_minor": 4
}
