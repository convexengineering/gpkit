{
 "cells": [
  {
   "cell_type": "code",
   "execution_count": 1,
   "metadata": {},
   "outputs": [
    {
     "data": {
      "text/html": [
       "<style>\n",
       ".sankey .node {\n",
       "    font-family: Myriad Pro;\n",
       "}\n",
       "</style>\n"
      ],
      "text/plain": [
       "<IPython.core.display.HTML object>"
      ]
     },
     "metadata": {},
     "output_type": "display_data"
    }
   ],
   "source": [
    "%%html\n",
    "<style>\n",
    ".sankey .node {\n",
    "    font-family: Myriad Pro;\n",
    "}\n",
    "</style>"
   ]
  },
  {
   "cell_type": "code",
   "execution_count": 2,
   "metadata": {},
   "outputs": [
    {
     "name": "stderr",
     "output_type": "stream",
     "text": [
      "/home/tao/projects/ce/venv/local/lib/python3.5/site-packages/pint/quantity.py:1377: UnitStrippedWarning: The unit of the quantity is stripped.\n",
      "  warnings.warn(\"The unit of the quantity is stripped.\", UnitStrippedWarning)\n"
     ]
    },
    {
     "name": "stdout",
     "output_type": "stream",
     "text": [
      "Starting a sequence of GP solves\n",
      " for 97 free variables\n",
      "  in 23 locally-GP constraints\n",
      "  and for 1032 free variables\n",
      "       in 1384 posynomial inequalities.\n",
      "Solving took 1.32 seconds and 4 GP solves.\n",
      "Warning: Variable Mission.Climb.AircraftDrag.WingAero.CL[:] could cause inaccurate result because it is below lower bound. Solution is 1.0302 but bound is 0.9465\n",
      "Warning: Variable Mission.Climb.AircraftDrag.WingAero.Re[:] could cause inaccurate result because it is above upper bound. Solution is 1230806.2495 but bound is 600000.0000\n",
      "Warning: Variable Mission.Climb.AircraftDrag.TailAero1.Re[:] could cause inaccurate result because it is above upper bound. Solution is 1152795.0157 but bound is 1000000.0000\n"
     ]
    },
    {
     "name": "stderr",
     "output_type": "stream",
     "text": [
      "/home/tao/projects/ce/venv/local/lib/python3.5/site-packages/pint/quantity.py:1377: UnitStrippedWarning: The unit of the quantity is stripped.\n",
      "  warnings.warn(\"The unit of the quantity is stripped.\", UnitStrippedWarning)\n"
     ]
    }
   ],
   "source": [
    "from solar.solar import *\n",
    "Vehicle = Aircraft(Npod=3, sp=True)\n",
    "M = Mission(Vehicle, latitude=[20])\n",
    "M.cost = M[M.aircraft.Wtotal]\n",
    "sol = M.localsolve(\"mosek_cli\")"
   ]
  },
  {
   "cell_type": "code",
   "execution_count": 3,
   "metadata": {},
   "outputs": [
    {
     "data": {
      "application/vnd.jupyter.widget-view+json": {
       "model_id": "1fa79ea944ac4ce1857a2ae56039773d",
       "version_major": 2,
       "version_minor": 0
      },
      "text/plain": [
       "SankeyWidget(layout=Layout(height='400', width='900'), links=[{'value': 8.416104828, 'source': 'SolarMission.0…"
      ]
     },
     "metadata": {},
     "output_type": "display_data"
    }
   ],
   "source": [
    "import gpkit.interactive.sankey\n",
    "from importlib import reload\n",
    "reload(gpkit.interactive.sankey)\n",
    "Sankey = gpkit.interactive.sankey.Sankey\n",
    "\n",
    "Sankey(sol, M, \"SolarMission\").diagram(M.aircraft.Wtotal, left=210, right=130)"
   ]
  },
  {
   "cell_type": "code",
   "execution_count": 4,
   "metadata": {},
   "outputs": [
    {
     "name": "stdout",
     "output_type": "stream",
     "text": [
      "Links exceed link limit (354 > 50); skipping constraints inside arrays.\n",
      "Links exceed link limit (106 > 50); skipping all constraints.\n"
     ]
    },
    {
     "data": {
      "application/vnd.jupyter.widget-view+json": {
       "model_id": "f90cc2cce24b4273a3a54e4f82f26371",
       "version_major": 2,
       "version_minor": 0
      },
      "text/plain": [
       "SankeyWidget(layout=Layout(height='400', width='900'), links=[{'value': 0.002626489, 'source': 'SolarMission.0…"
      ]
     },
     "metadata": {},
     "output_type": "display_data"
    }
   ],
   "source": [
    "Sankey(sol, M, \"SolarMission\").diagram(M.aircraft.b, right=180)"
   ]
  },
  {
   "cell_type": "code",
   "execution_count": 5,
   "metadata": {},
   "outputs": [
    {
     "data": {
      "application/vnd.jupyter.widget-view+json": {
       "model_id": "cce4295c5e5c42ebad34772c19d60dff",
       "version_major": 2,
       "version_minor": 0
      },
      "text/plain": [
       "SankeyWidget(layout=Layout(height='400', width='900'), links=[{'value': 0.07658986, 'source': 'SolarMission.00…"
      ]
     },
     "metadata": {},
     "output_type": "display_data"
    }
   ],
   "source": [
    "Sankey(sol, M, \"SolarMission\").diagram(M[\"Nprop\"], left=240)"
   ]
  },
  {
   "cell_type": "code",
   "execution_count": 6,
   "metadata": {},
   "outputs": [
    {
     "data": {
      "application/vnd.jupyter.widget-view+json": {
       "model_id": "d778f356c34f479587b25cc3e881a12a",
       "version_major": 2,
       "version_minor": 0
      },
      "text/plain": [
       "SankeyWidget(layout=Layout(height='400', width='900'), links=[{'value': 0.01614444, 'source': 'SolarMission.00…"
      ]
     },
     "metadata": {},
     "output_type": "display_data"
    }
   ],
   "source": [
    "Sankey(sol, M, \"SolarMission\").diagram(M.variables_byname(\"tmin\")[0], right=160, left=10)"
   ]
  },
  {
   "cell_type": "code",
   "execution_count": 7,
   "metadata": {},
   "outputs": [
    {
     "name": "stdout",
     "output_type": "stream",
     "text": [
      "Links exceed link limit (1314 > 50); skipping constraints inside arrays.\n",
      "Links exceed link limit (414 > 50); skipping all constraints.\n"
     ]
    },
    {
     "data": {
      "application/vnd.jupyter.widget-view+json": {
       "model_id": "7bcd3df6fa674f1e88a16f8bdcb5ab32",
       "version_major": 2,
       "version_minor": 0
      },
      "text/plain": [
       "SankeyWidget(layout=Layout(height='600', width='900'), links=[{'value': 0.145379622, 'source': 'SolarMission.0…"
      ]
     },
     "metadata": {},
     "output_type": "display_data"
    }
   ],
   "source": [
    "Sankey(sol, M, \"SolarMission\").diagram(height=600)"
   ]
  }
 ],
 "metadata": {
  "kernelspec": {
   "display_name": "Python 3",
   "language": "python",
   "name": "python3"
  },
  "language_info": {
   "codemirror_mode": {
    "name": "ipython",
    "version": 3
   },
   "file_extension": ".py",
   "mimetype": "text/x-python",
   "name": "python",
   "nbconvert_exporter": "python",
   "pygments_lexer": "ipython3",
   "version": "3.5.2"
  }
 },
 "nbformat": 4,
 "nbformat_minor": 4
}
