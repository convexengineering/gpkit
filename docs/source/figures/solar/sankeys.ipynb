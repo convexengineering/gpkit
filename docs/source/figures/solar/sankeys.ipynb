{
 "cells": [
  {
   "cell_type": "code",
   "execution_count": 1,
   "metadata": {},
   "outputs": [
    {
     "data": {
      "text/html": [
       "<style>\n",
       ".sankey .node {\n",
       "    font-family: Myriad Pro;\n",
       "}\n",
       "</style>\n"
      ],
      "text/plain": [
       "<IPython.core.display.HTML object>"
      ]
     },
     "metadata": {},
     "output_type": "display_data"
    }
   ],
   "source": [
    "%%html\n",
    "<style>\n",
    ".sankey .node {\n",
    "    font-family: Myriad Pro;\n",
    "}\n",
    "</style>"
   ]
  },
  {
   "cell_type": "code",
   "execution_count": 2,
   "metadata": {},
   "outputs": [
    {
     "name": "stderr",
     "output_type": "stream",
     "text": [
      "/home/tao/projects/ce/venv/local/lib/python3.5/site-packages/pint/quantity.py:1377: UnitStrippedWarning: The unit of the quantity is stripped.\n",
      "  warnings.warn(\"The unit of the quantity is stripped.\", UnitStrippedWarning)\n"
     ]
    },
    {
     "name": "stdout",
     "output_type": "stream",
     "text": [
      "Starting a sequence of GP solves\n",
      " for 97 free variables\n",
      "  in 23 locally-GP constraints\n",
      "  and for 1032 free variables\n",
      "       in 1384 posynomial inequalities.\n",
      "Solving took 1.26 seconds and 4 GP solves.\n",
      "Warning: Variable Mission.Climb.AircraftDrag.WingAero.CL[:] could cause inaccurate result because it is below lower bound. Solution is 1.0302 but bound is 0.9465\n",
      "Warning: Variable Mission.Climb.AircraftDrag.WingAero.Re[:] could cause inaccurate result because it is above upper bound. Solution is 1230806.2495 but bound is 600000.0000\n",
      "Warning: Variable Mission.Climb.AircraftDrag.TailAero1.Re[:] could cause inaccurate result because it is above upper bound. Solution is 1152795.0157 but bound is 1000000.0000\n"
     ]
    },
    {
     "name": "stderr",
     "output_type": "stream",
     "text": [
      "/home/tao/projects/ce/venv/local/lib/python3.5/site-packages/pint/quantity.py:1377: UnitStrippedWarning: The unit of the quantity is stripped.\n",
      "  warnings.warn(\"The unit of the quantity is stripped.\", UnitStrippedWarning)\n"
     ]
    }
   ],
   "source": [
    "from solar.solar import *\n",
    "Vehicle = Aircraft(Npod=3, sp=True)\n",
    "M = Mission(Vehicle, latitude=[20])\n",
    "M.cost = M[M.aircraft.Wtotal]\n",
    "sol = M.localsolve(\"mosek_cli\")"
   ]
  },
  {
   "cell_type": "code",
   "execution_count": 8,
   "metadata": {},
   "outputs": [
    {
     "data": {
      "application/vnd.jupyter.widget-view+json": {
       "model_id": "0e9069f4cb8f41e18529349168df29b5",
       "version_major": 2,
       "version_minor": 0
      },
      "text/plain": [
       "SankeyWidget(layout=Layout(height='400', width='900'), links=[{'title': '-1', 'source': 'Wtotal [lbf].0001', '…"
      ]
     },
     "metadata": {},
     "output_type": "display_data"
    }
   ],
   "source": [
    "import gpkit.interactive.sankey\n",
    "from importlib import reload\n",
    "reload(gpkit.interactive.sankey)\n",
    "Sankey = gpkit.interactive.sankey.Sankey\n",
    "\n",
    "Sankey(sol, M, \"SolarMission\").diagram(M.aircraft.Wtotal)"
   ]
  },
  {
   "cell_type": "code",
   "execution_count": 9,
   "metadata": {},
   "outputs": [
    {
     "data": {
      "application/vnd.jupyter.widget-view+json": {
       "model_id": "24c065ff812c4ef0911a199730ba38a7",
       "version_major": 2,
       "version_minor": 0
      },
      "text/plain": [
       "SankeyWidget(layout=Layout(height='400', width='900'), links=[{'title': '+0.76', 'source': 'b [ft].0001.0003.0…"
      ]
     },
     "metadata": {},
     "output_type": "display_data"
    }
   ],
   "source": [
    "Sankey(sol, M, \"SolarMission\").diagram(M.aircraft.wing.planform.b)"
   ]
  },
  {
   "cell_type": "code",
   "execution_count": 10,
   "metadata": {},
   "outputs": [
    {
     "data": {
      "application/vnd.jupyter.widget-view+json": {
       "model_id": "0c0ad012a7eb4b9aac6aad5d0d9cb718",
       "version_major": 2,
       "version_minor": 0
      },
      "text/plain": [
       "SankeyWidget(layout=Layout(height='400', width='900'), links=[{'title': '+0.081', 'source': 'Aircraft.Nprop.00…"
      ]
     },
     "metadata": {},
     "output_type": "display_data"
    }
   ],
   "source": [
    "Sankey(sol, M, \"SolarMission\").diagram(M[\"Nprop\"])"
   ]
  },
  {
   "cell_type": "code",
   "execution_count": 13,
   "metadata": {},
   "outputs": [
    {
     "data": {
      "application/vnd.jupyter.widget-view+json": {
       "model_id": "d981656c535242cabb40f8220a13f0af",
       "version_major": 2,
       "version_minor": 0
      },
      "text/plain": [
       "SankeyWidget(layout=Layout(height='400', width='900'), links=[{'title': '+0.077', 'source': 'CFRPFabric.tmin […"
      ]
     },
     "metadata": {},
     "output_type": "display_data"
    }
   ],
   "source": [
    "Sankey(sol, M, \"SolarMission\").diagram(M.variables_byname(\"tmin\")[0], left=100, right=140)"
   ]
  },
  {
   "cell_type": "code",
   "execution_count": 7,
   "metadata": {},
   "outputs": [
    {
     "data": {
      "application/vnd.jupyter.widget-view+json": {
       "model_id": "6a98b11be9cf4b13a1cfd8f215cccb90",
       "version_major": 2,
       "version_minor": 0
      },
      "text/plain": [
       "SankeyWidget(layout=Layout(height='400', width='900'), links=[{'title': '-1.2', 'source': 'SolarMission.0003.0…"
      ]
     },
     "metadata": {},
     "output_type": "display_data"
    }
   ],
   "source": [
    "Sankey(sol, M, \"SolarMission\").diagram(minsenss=1)"
   ]
  },
  {
   "cell_type": "code",
   "execution_count": 39,
   "metadata": {},
   "outputs": [
    {
     "name": "stdout",
     "output_type": "stream",
     "text": [
      "\n",
      "Cost\n",
      "----\n",
      " Wfuel[0]\n",
      "\n",
      "Constraints\n",
      "-----------\n",
      " Mission19\n",
      "  \"fuel constraints\":\n",
      "    Wfuel[:-1] ≥ Wfuel[1:] + Wburn[:-1]\n",
      "    Wfuel[3] ≥ Wburn[3]\n",
      "\n",
      "  FlightSegment\n",
      "   AircraftP\n",
      "    \"fuel burn rate\":\n",
      "      Wburn[:] ≥ 0.1·D[:]\n",
      "    \"lift\":\n",
      "      Aircraft19.W + Wfuel[:] ≤ 0.5·rho[:]·CL[:]·S·V[:]²\n",
      "    \"performance\":\n",
      "      WingAero\n",
      "       D[:] ≥ 0.5·rho[:]·V[:]²·CD[:]·S\n",
      "       Re[:] = rho[:]·V[:]·c/mu[:]\n",
      "       CD[:] ≥ 0.074/Re[:]^0.2 + CL[:]²/π/A/e[:]\n",
      "\n",
      "   FlightState\n",
      "    (no constraints)\n",
      "\n",
      " Aircraft19\n",
      "  Aircraft19.W ≥ Aircraft19.Fuselage.W + Aircraft19.Wing.W\n",
      "  Fuselage\n",
      "   (no constraints)\n",
      "\n",
      "  Wing\n",
      "   c = (S/A)^0.5\n",
      "   Aircraft19.Wing.W ≥ S·Aircraft19.Wing.rho\n",
      "\n",
      "Optimal Cost\n",
      "------------\n",
      " 1.091\n",
      "\n",
      "Free Variables\n",
      "--------------\n",
      "      | Aircraft19\n",
      "    W : 144.1                                       [lbf] weight\n",
      "\n",
      "      | Aircraft19.Wing\n",
      "    S : 44.14                                       [ft²] surface area\n",
      "    W : 44.14                                       [lbf] weight\n",
      "    c : 1.279                                       [ft]  mean chord\n",
      "\n",
      "      | Mission19.FlightSegment.AircraftP\n",
      "Wburn : [ 0.274     0.273     0.272     0.272    ]  [lbf] segment fuel burn\n",
      "Wfuel : [ 1.09      0.817     0.544     0.272    ]  [lbf] fuel weight\n",
      "\n",
      "      | Mission19.FlightSegment.AircraftP.WingAero\n",
      "    D : [ 2.74      2.73      2.72      2.72     ]  [lbf] drag force\n",
      "\n",
      "Variable Sensitivities\n",
      "----------------------\n",
      "    | Aircraft19.Fuselage\n",
      "  W : +0.97  weight\n",
      "\n",
      "    | Aircraft19.Wing\n",
      "  A : -0.67  aspect ratio\n",
      "rho : +0.43  areal density\n",
      "\n",
      "Next Most Sensitive Variables\n",
      "-----------------------------\n",
      "    | Mission19.FlightSegment.AircraftP.WingAero\n",
      "  e : [ -0.18     -0.18     -0.18     -0.18    ] Oswald efficiency\n",
      "\n",
      "    | Mission19.FlightSegment.FlightState\n",
      "  V : [ -0.22     -0.21     -0.21     -0.21    ] true airspeed\n",
      "rho : [ -0.12     -0.11     -0.11     -0.11    ] air density\n",
      "\n",
      "Most Sensitive Constraints\n",
      "--------------------------\n",
      "       | Aircraft19\n",
      "  +1.4 : .W ≥ .Fuselage.W + .Wing.W\n",
      "\n",
      "       | Mission19\n",
      "    +1 : Wfuel[0] ≥ Wfuel[1] + Wburn[0]\n",
      " +0.75 : Wfuel[1] ≥ Wfuel[2] + Wburn[1]\n",
      "  +0.5 : Wfuel[2] ≥ Wfuel[3] + Wburn[2]\n",
      "\n",
      "       | Aircraft19.Wing\n",
      " +0.43 : .W ≥ S·.rho\n",
      "\n",
      "Insensitive Constraints |below +1e-05|\n",
      "--------------------------------------\n",
      "(none)\n",
      "\n",
      "Solution Diff (for selected variables)\n",
      "======================================\n",
      "(argument is the baseline solution)\n",
      "\n",
      "Constraint Differences\n",
      "**********************\n",
      "@@ -33,3 +33,4 @@\n",
      "   Wing\n",
      "    c = (S/A)^0.5\n",
      "    Aircraft19.Wing.W ≥ S·Aircraft19.Wing.rho\n",
      "+ Wburn[:] ≥ 0.2·D[:]\n",
      "\n",
      "**********************\n",
      "\n",
      "Relative Differences |above 1%|\n",
      "-------------------------------\n",
      "Wburn : [ +102.1%   +101.6%   +101.1%   +100.5%  ] segment fuel burn\n",
      "Wfuel : [ +101.3%   +101.1%   +100.8%   +100.5%  ] fuel weight\n",
      "    D : [   +1.1%       -         -         -    ] drag force\n",
      "\n"
     ]
    },
    {
     "data": {
      "application/vnd.jupyter.widget-view+json": {
       "model_id": "cb77c332adf340c6a8d612fd057f28a7",
       "version_major": 2,
       "version_minor": 0
      },
      "text/plain": [
       "SankeyWidget(layout=Layout(height='400', width='1200'), links=[{'title': '-1', 'source': 'Model.0001.0002.0001…"
      ]
     },
     "metadata": {},
     "output_type": "display_data"
    }
   ],
   "source": [
    "\"\"\"Modular aircraft concept\"\"\"\n",
    "import pickle\n",
    "import numpy as np\n",
    "from gpkit import Model, Vectorize, parse_variables\n",
    "\n",
    "\n",
    "class AircraftP(Model):\n",
    "    \"\"\"Aircraft flight physics: weight <= lift, fuel burn\n",
    "\n",
    "    Variables\n",
    "    ---------\n",
    "    Wfuel  [lbf]  fuel weight\n",
    "    Wburn  [lbf]  segment fuel burn\n",
    "\n",
    "    Upper Unbounded\n",
    "    ---------------\n",
    "    Wburn, aircraft.wing.c, aircraft.wing.A\n",
    "\n",
    "    Lower Unbounded\n",
    "    ---------------\n",
    "    Wfuel, aircraft.W, state.mu\n",
    "\n",
    "    \"\"\"\n",
    "    @parse_variables(__doc__, globals())\n",
    "    def setup(self, aircraft, state):\n",
    "        self.aircraft = aircraft\n",
    "        self.state = state\n",
    "\n",
    "        self.wing_aero = aircraft.wing.dynamic(aircraft.wing, state)\n",
    "        self.perf_models = [self.wing_aero]\n",
    "\n",
    "        W = aircraft.W\n",
    "        S = aircraft.wing.S\n",
    "\n",
    "        V = state.V\n",
    "        rho = state.rho\n",
    "\n",
    "        D = self.wing_aero.D\n",
    "        CL = self.wing_aero.CL\n",
    "\n",
    "        return {\n",
    "            \"fuel burn rate\":\n",
    "                Wburn >= 0.1*D,\n",
    "            \"lift\":\n",
    "                W + Wfuel <= 0.5*rho*CL*S*V**2,\n",
    "            \"performance\":\n",
    "                self.perf_models}\n",
    "\n",
    "\n",
    "class Aircraft(Model):\n",
    "    \"\"\"The vehicle model\n",
    "\n",
    "    Variables\n",
    "    ---------\n",
    "    W  [lbf]  weight\n",
    "\n",
    "    Upper Unbounded\n",
    "    ---------------\n",
    "    W\n",
    "\n",
    "    Lower Unbounded\n",
    "    ---------------\n",
    "    wing.c, wing.S\n",
    "    \"\"\"\n",
    "    @parse_variables(__doc__, globals())\n",
    "    def setup(self):\n",
    "        self.fuse = Fuselage()\n",
    "        self.wing = Wing()\n",
    "        self.components = [self.fuse, self.wing]\n",
    "\n",
    "        return [W >= sum(c.W for c in self.components),\n",
    "                self.components]\n",
    "\n",
    "    dynamic = AircraftP\n",
    "\n",
    "\n",
    "class FlightState(Model):\n",
    "    \"\"\"Context for evaluating flight physics\n",
    "\n",
    "    Variables\n",
    "    ---------\n",
    "    V     40       [knots]    true airspeed\n",
    "    mu    1.628e-5 [N*s/m^2]  dynamic viscosity\n",
    "    rho   0.74     [kg/m^3]   air density\n",
    "\n",
    "    \"\"\"\n",
    "    @parse_variables(__doc__, globals())\n",
    "    def setup(self):\n",
    "        pass\n",
    "\n",
    "\n",
    "class FlightSegment(Model):\n",
    "    \"\"\"Combines a context (flight state) and a component (the aircraft)\n",
    "\n",
    "    Upper Unbounded\n",
    "    ---------------\n",
    "    Wburn, aircraft.wing.c, aircraft.wing.A\n",
    "\n",
    "    Lower Unbounded\n",
    "    ---------------\n",
    "    Wfuel, aircraft.W\n",
    "\n",
    "    \"\"\"\n",
    "    def setup(self, aircraft):\n",
    "        self.aircraft = aircraft\n",
    "\n",
    "        self.flightstate = FlightState()\n",
    "        self.aircraftp = aircraft.dynamic(aircraft, self.flightstate)\n",
    "\n",
    "        self.Wburn = self.aircraftp.Wburn\n",
    "        self.Wfuel = self.aircraftp.Wfuel\n",
    "\n",
    "        return {\"aircraft performance\": self.aircraftp,\n",
    "                \"flightstate\": self.flightstate}\n",
    "\n",
    "\n",
    "class Mission(Model):\n",
    "    \"\"\"A sequence of flight segments\n",
    "\n",
    "    Upper Unbounded\n",
    "    ---------------\n",
    "    aircraft.wing.c, aircraft.wing.A\n",
    "\n",
    "    Lower Unbounded\n",
    "    ---------------\n",
    "    aircraft.W\n",
    "    \"\"\"\n",
    "    def setup(self, aircraft):\n",
    "        self.aircraft = aircraft\n",
    "\n",
    "        with Vectorize(4):  # four flight segments\n",
    "            self.fs = FlightSegment(aircraft)\n",
    "\n",
    "        Wburn = self.fs.aircraftp.Wburn\n",
    "        Wfuel = self.fs.aircraftp.Wfuel\n",
    "        self.takeoff_fuel = Wfuel[0]\n",
    "\n",
    "        return {\n",
    "            \"fuel constraints\":\n",
    "                [Wfuel[:-1] >= Wfuel[1:] + Wburn[:-1],\n",
    "                 Wfuel[-1] >= Wburn[-1]],\n",
    "            \"flight segment\":\n",
    "                self.fs}\n",
    "\n",
    "\n",
    "class WingAero(Model):\n",
    "    \"\"\"Wing aerodynamics\n",
    "\n",
    "    Variables\n",
    "    ---------\n",
    "    CD      [-]    drag coefficient\n",
    "    CL      [-]    lift coefficient\n",
    "    e   0.9 [-]    Oswald efficiency\n",
    "    Re      [-]    Reynold's number\n",
    "    D       [lbf]  drag force\n",
    "\n",
    "    Upper Unbounded\n",
    "    ---------------\n",
    "    D, Re, wing.A, state.mu\n",
    "\n",
    "    Lower Unbounded\n",
    "    ---------------\n",
    "    CL, wing.S, state.mu, state.rho, state.V\n",
    "    \"\"\"\n",
    "    @parse_variables(__doc__, globals())\n",
    "    def setup(self, wing, state):\n",
    "        self.wing = wing\n",
    "        self.state = state\n",
    "\n",
    "        c = wing.c\n",
    "        A = wing.A\n",
    "        S = wing.S\n",
    "        rho = state.rho\n",
    "        V = state.V\n",
    "        mu = state.mu\n",
    "\n",
    "        return [D >= 0.5*rho*V**2*CD*S,\n",
    "                Re == rho*V*c/mu,\n",
    "                CD >= 0.074/Re**0.2 + CL**2/np.pi/A/e]\n",
    "\n",
    "\n",
    "class Wing(Model):\n",
    "    \"\"\"Aircraft wing model\n",
    "\n",
    "    Variables\n",
    "    ---------\n",
    "    W        [lbf]       weight\n",
    "    S        [ft^2]      surface area\n",
    "    rho    1 [lbf/ft^2]  areal density\n",
    "    A     27 [-]         aspect ratio\n",
    "    c        [ft]        mean chord\n",
    "\n",
    "    Upper Unbounded\n",
    "    ---------------\n",
    "    W\n",
    "\n",
    "    Lower Unbounded\n",
    "    ---------------\n",
    "    c, S\n",
    "    \"\"\"\n",
    "    @parse_variables(__doc__, globals())\n",
    "    def setup(self):\n",
    "        return [c == (S/A)**0.5,\n",
    "                W >= S*rho]\n",
    "\n",
    "    dynamic = WingAero\n",
    "\n",
    "\n",
    "class Fuselage(Model):\n",
    "    \"\"\"The thing that carries the fuel, engine, and payload\n",
    "\n",
    "    A full model is left as an exercise for the reader.\n",
    "\n",
    "    Variables\n",
    "    ---------\n",
    "    W  100 [lbf]  weight\n",
    "\n",
    "    \"\"\"\n",
    "    @parse_variables(__doc__, globals())\n",
    "    def setup(self):\n",
    "        pass\n",
    "\n",
    "AC = Aircraft()\n",
    "MISSION = Mission(AC)\n",
    "M = Model(MISSION.takeoff_fuel, [MISSION, AC])\n",
    "print(M)\n",
    "sol = M.solve(verbosity=0)\n",
    "# save solution to some files\n",
    "sol.savemat()\n",
    "sol.savecsv()\n",
    "sol.savetxt()\n",
    "sol.save(\"solution.pkl\")\n",
    "# retrieve solution from a file\n",
    "sol_loaded = pickle.load(open(\"solution.pkl\", \"rb\"))\n",
    "\n",
    "vars_of_interest = set(AC.varkeys)\n",
    "# note that there's two ways to access submodels\n",
    "assert (MISSION[\"flight segment\"][\"aircraft performance\"]\n",
    "        is MISSION.fs.aircraftp)\n",
    "vars_of_interest.update(MISSION.fs.aircraftp.unique_varkeys)\n",
    "vars_of_interest.add(M[\"D\"])\n",
    "print(sol.summary(vars_of_interest))\n",
    "print(sol.table(tables=[\"loose constraints\"]))\n",
    "\n",
    "M.append(MISSION.fs.aircraftp.Wburn >= 0.2*MISSION.fs.aircraftp.wing_aero.D)\n",
    "sol = M.solve(verbosity=0)\n",
    "print(sol.diff(\"solution.pkl\", showvars=vars_of_interest, sortbymodel=False))\n",
    "\n",
    "# this will only make an image when run in jupyter notebook\n",
    "from gpkit.interactive.sankey import Sankey\n",
    "variablesankey = Sankey(sol, M).diagram(AC.wing.A)\n",
    "sankey = Sankey(sol, M).diagram(width=1200, height=400)\n",
    "sankey  # pylint: disable=pointless-statement"
   ]
  }
 ],
 "metadata": {
  "kernelspec": {
   "display_name": "Python 3",
   "language": "python",
   "name": "python3"
  },
  "language_info": {
   "codemirror_mode": {
    "name": "ipython",
    "version": 3
   },
   "file_extension": ".py",
   "mimetype": "text/x-python",
   "name": "python",
   "nbconvert_exporter": "python",
   "pygments_lexer": "ipython3",
   "version": "3.5.2"
  }
 },
 "nbformat": 4,
 "nbformat_minor": 4
}
